{
 "cells": [
  {
   "cell_type": "code",
   "execution_count": null,
   "id": "89468748-8128-4273-947f-5411e1cf2424",
   "metadata": {},
   "outputs": [],
   "source": [
    "import numpy as np\n",
    "import matplotlib.pyplot as plt\n",
    "import logging\n",
    "import time\n",
    "import numpy as np\n",
    "import matplotlib.pyplot as plt\n",
    "import sys\n",
    "import pandas as pd\n",
    "import numpy as np\n",
    "import matplotlib.pyplot as plt\n",
    "import seaborn as sns\n",
    "from pandas_datareader.data import DataReader\n",
    "import yfinance as yf\n",
    "from pandas_datareader import data as pdr\n",
    "from datetime import datetime"
   ]
  },
  {
   "cell_type": "code",
   "execution_count": null,
   "id": "262c4dd2-7fa1-4b12-bede-9057538e1aa6",
   "metadata": {},
   "outputs": [],
   "source": [
    "yf.pdr_override()"
   ]
  },
  {
   "cell_type": "code",
   "execution_count": null,
   "id": "de8b558f-9906-4a7f-b1af-07a250262c9e",
   "metadata": {},
   "outputs": [],
   "source": [
    "tech_list = ['AAPL', 'GOOG', 'MSFT', 'AMZN',\"META\",\"NFLX\",\"AMX\",\"JPM\",\"TSLA\",\"GE\"]"
   ]
  },
  {
   "cell_type": "code",
   "execution_count": null,
   "id": "83765167-d15a-48c9-82f8-46095b0fff8f",
   "metadata": {},
   "outputs": [],
   "source": [
    "end = datetime.now()\n",
    "start = datetime(end.year - 1, end.month, end.day)"
   ]
  },
  {
   "cell_type": "code",
   "execution_count": null,
   "id": "5ae6b099-b06b-47af-a091-5dab228e5902",
   "metadata": {},
   "outputs": [],
   "source": [
    "for stock in tech_list:\n",
    "        globals()[stock] = yf.download(stock, start, end,interval = '1h')\n",
    "        dfdc = yf.download(stock, start, end)\n",
    "        dfdc.to_csv('stockdc.csv')"
   ]
  },
  {
   "cell_type": "code",
   "execution_count": null,
   "id": "ecf1ba26-5201-4659-9098-841d8b5faaa1",
   "metadata": {},
   "outputs": [],
   "source": [
    "company_list = [AAPL, GOOG, MSFT, AMZN,META,NFLX,AMX,JPM,TSLA,GE]\n",
    "    company_name = [\"APPLE\", \"GOOGLE\", \"MICROSOFT\", \"AMAZON\",\"META\", \"NETFLIX\",\"AMERICAN EXPR\",\"JP-MORGAN\",\"TESLA\",\"GENERAL_ELC\"]"
   ]
  },
  {
   "cell_type": "code",
   "execution_count": null,
   "id": "dd80dfa8-9e87-4702-bc46-514194cdd0ca",
   "metadata": {},
   "outputs": [],
   "source": [
    "for company, com_name in zip(company_list, company_name):\n",
    "        company[\"company_name\"] = com_name"
   ]
  },
  {
   "cell_type": "code",
   "execution_count": null,
   "id": "57b66a2d-7ffb-4b33-b16d-b40ec1d9baa8",
   "metadata": {},
   "outputs": [],
   "source": [
    "df = pd.concat(company_list, axis=0)\n",
    "df"
   ]
  },
  {
   "cell_type": "code",
   "execution_count": null,
   "id": "1b6978f8-ee1d-4e87-acf2-f2c0e956b570",
   "metadata": {},
   "outputs": [],
   "source": [
    "df.to_csv('stock.csv')"
   ]
  },
  {
   "cell_type": "code",
   "execution_count": null,
   "id": "eb649576-772a-4403-9aad-a63da15c2b07",
   "metadata": {},
   "outputs": [],
   "source": [
    "dfxf = pd.read_csv(\"stock.csv\")\n",
    "dfxf"
   ]
  },
  {
   "cell_type": "code",
   "execution_count": null,
   "id": "e7eb5dd8-1056-4a4c-9379-55cf171dd6f2",
   "metadata": {},
   "outputs": [],
   "source": [
    "com='META'\n",
    "df_rest = df[df['company_name']!=com]\n",
    "df_rest"
   ]
  },
  {
   "cell_type": "code",
   "execution_count": null,
   "id": "f082b5b8-67f5-4d0c-b016-b015d42ceeef",
   "metadata": {},
   "outputs": [],
   "source": [
    "X= df_rest.drop(\"company_name\", axis='columns')"
   ]
  },
  {
   "cell_type": "code",
   "execution_count": null,
   "id": "c699f454-e557-4378-bc15-922c7bb3b08d",
   "metadata": {},
   "outputs": [],
   "source": [
    "dataset = X.iloc[:,3:4]\n",
    "dataset"
   ]
  },
  {
   "cell_type": "code",
   "execution_count": null,
   "id": "3fc2bd5b-4f96-4b4b-b5bc-ab18009c9ae3",
   "metadata": {},
   "outputs": [],
   "source": [
    "training_data_len = int(np.ceil( len(dataset) * .95 ))\n",
    "training_data_len"
   ]
  },
  {
   "cell_type": "code",
   "execution_count": null,
   "id": "faee2357-d457-489b-ac02-59f6015e8d41",
   "metadata": {},
   "outputs": [],
   "source": [
    "from sklearn.preprocessing import MinMaxScaler\n",
    "    scaler = MinMaxScaler(feature_range=(-1,1))\n",
    "    scaled_data = scaler.fit_transform(dataset)\n",
    "    scaled_data"
   ]
  },
  {
   "cell_type": "code",
   "execution_count": null,
   "id": "6df645d9-9470-45fb-a1ce-702adb9c909c",
   "metadata": {},
   "outputs": [],
   "source": []
  }
 ],
 "metadata": {
  "kernelspec": {
   "display_name": "Python 3 (ipykernel)",
   "language": "python",
   "name": "python3"
  },
  "language_info": {
   "codemirror_mode": {
    "name": "ipython",
    "version": 3
   },
   "file_extension": ".py",
   "mimetype": "text/x-python",
   "name": "python",
   "nbconvert_exporter": "python",
   "pygments_lexer": "ipython3",
   "version": "3.9.13"
  }
 },
 "nbformat": 4,
 "nbformat_minor": 5
}
