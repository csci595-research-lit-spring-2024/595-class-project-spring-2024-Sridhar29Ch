{
 "cells": [
  {
   "cell_type": "code",
   "execution_count": null,
   "id": "89468748-8128-4273-947f-5411e1cf2424",
   "metadata": {},
   "outputs": [],
   "source": [
    "import numpy as np\n",
    "import matplotlib.pyplot as plt\n",
    "import logging\n",
    "import time\n",
    "import numpy as np\n",
    "import matplotlib.pyplot as plt\n",
    "import sys\n",
    "import pandas as pd\n",
    "import numpy as np\n",
    "import matplotlib.pyplot as plt\n",
    "import seaborn as sns\n",
    "from pandas_datareader.data import DataReader\n",
    "import yfinance as yf\n",
    "import tensorflow as tf\n",
    "from pandas_datareader import data as pdr\n",
    "from datetime import datetime\n",
    "from sklearn.preprocessing import MinMaxScaler\n",
    "from statsmodels.tsa.arima.model import ARIMA\n",
    "from tensorflow.keras.models import Sequential\n",
    "from tensorflow.keras.layers import Dense"
   ]
  },
  {
   "cell_type": "code",
   "execution_count": null,
   "id": "262c4dd2-7fa1-4b12-bede-9057538e1aa6",
   "metadata": {},
   "outputs": [],
   "source": [
    "#\"APPLE\", \"GOOGLE\", \"MICROSOFT\", \"AMAZON\",\"META\", \"NETFLIX\",\"AMERICAN EXPR\",\"JP-MORGAN\",\"TESLA\",\"GENERAL_ELC\"\n",
    "com='GENERAL_ELC'\n",
    "yf.pdr_override()"
   ]
  },
  {
   "cell_type": "code",
   "execution_count": null,
   "id": "de8b558f-9906-4a7f-b1af-07a250262c9e",
   "metadata": {},
   "outputs": [],
   "source": [
    "tech_list = ['AAPL', 'GOOG', 'MSFT', 'AMZN',\"META\",\"NFLX\",\"AMX\",\"JPM\",\"TSLA\",\"GE\"]"
   ]
  },
  {
   "cell_type": "code",
   "execution_count": null,
   "id": "83765167-d15a-48c9-82f8-46095b0fff8f",
   "metadata": {},
   "outputs": [],
   "source": [
    "end = datetime.now()\n",
    "start = datetime(end.year - 1, end.month, end.day)"
   ]
  },
  {
   "cell_type": "code",
   "execution_count": null,
   "id": "5ae6b099-b06b-47af-a091-5dab228e5902",
   "metadata": {},
   "outputs": [],
   "source": [
    "for stock in tech_list:\n",
    "        globals()[stock] = yf.download(stock, start, end,interval = '1h')\n",
    "        dfdc = yf.download(stock, start, end)\n",
    "        dfdc.to_csv('stockdc.csv')"
   ]
  },
  {
   "cell_type": "code",
   "execution_count": null,
   "id": "ecf1ba26-5201-4659-9098-841d8b5faaa1",
   "metadata": {},
   "outputs": [],
   "source": [
    "company_list = [AAPL, GOOG, MSFT, AMZN,META,NFLX,AMX,JPM,TSLA,GE]\n",
    "company_name = [\"APPLE\", \"GOOGLE\", \"MICROSOFT\", \"AMAZON\",\"META\", \"NETFLIX\",\"AMERICAN EXPR\",\"JP-MORGAN\",\"TESLA\",\"GENERAL_ELC\"]"
   ]
  },
  {
   "cell_type": "code",
   "execution_count": null,
   "id": "dd80dfa8-9e87-4702-bc46-514194cdd0ca",
   "metadata": {},
   "outputs": [],
   "source": [
    "for company, com_name in zip(company_list, company_name):\n",
    "        company[\"company_name\"] = com_name"
   ]
  },
  {
   "cell_type": "code",
   "execution_count": null,
   "id": "57b66a2d-7ffb-4b33-b16d-b40ec1d9baa8",
   "metadata": {},
   "outputs": [],
   "source": [
    "df = pd.concat(company_list, axis=0)\n",
    "df"
   ]
  },
  {
   "cell_type": "code",
   "execution_count": null,
   "id": "1b6978f8-ee1d-4e87-acf2-f2c0e956b570",
   "metadata": {},
   "outputs": [],
   "source": [
    "df.to_csv('stock.csv')"
   ]
  },
  {
   "cell_type": "code",
   "execution_count": null,
   "id": "eb649576-772a-4403-9aad-a63da15c2b07",
   "metadata": {},
   "outputs": [],
   "source": [
    "dfxf = pd.read_csv(\"stock.csv\")\n",
    "dfxf"
   ]
  },
  {
   "cell_type": "code",
   "execution_count": null,
   "id": "e7eb5dd8-1056-4a4c-9379-55cf171dd6f2",
   "metadata": {},
   "outputs": [],
   "source": [
    "df_rest = df[df['company_name']!=com]\n",
    "df_rest"
   ]
  },
  {
   "cell_type": "code",
   "execution_count": null,
   "id": "f082b5b8-67f5-4d0c-b016-b015d42ceeef",
   "metadata": {},
   "outputs": [],
   "source": [
    "X= df_rest.drop(\"company_name\", axis='columns')"
   ]
  },
  {
   "cell_type": "code",
   "execution_count": null,
   "id": "c699f454-e557-4378-bc15-922c7bb3b08d",
   "metadata": {},
   "outputs": [],
   "source": [
    "dataset = X.iloc[:,3:4]\n",
    "dataset"
   ]
  },
  {
   "cell_type": "code",
   "execution_count": null,
   "id": "3fc2bd5b-4f96-4b4b-b5bc-ab18009c9ae3",
   "metadata": {},
   "outputs": [],
   "source": [
    "training_data_len = int(np.ceil( len(dataset) * .95 ))\n",
    "training_data_len"
   ]
  },
  {
   "cell_type": "code",
   "execution_count": null,
   "id": "faee2357-d457-489b-ac02-59f6015e8d41",
   "metadata": {},
   "outputs": [],
   "source": [
    "from sklearn.preprocessing import MinMaxScaler\n",
    "scaler = MinMaxScaler(feature_range=(-1,1))\n",
    "scaled_data = scaler.fit_transform(dataset)\n",
    "scaled_data"
   ]
  },
  {
   "cell_type": "code",
   "execution_count": null,
   "id": "6df645d9-9470-45fb-a1ce-702adb9c909c",
   "metadata": {},
   "outputs": [],
   "source": [
    "train_data = scaled_data[0:int(training_data_len), :]"
   ]
  },
  {
   "cell_type": "code",
   "execution_count": null,
   "id": "f3e2746d-dd6b-47d9-a257-92b2f4fa7cfe",
   "metadata": {},
   "outputs": [],
   "source": [
    "x_train = []\n",
    "y_train = []"
   ]
  },
  {
   "cell_type": "code",
   "execution_count": null,
   "id": "f7af158e-00b2-409f-8066-112535ac45f5",
   "metadata": {},
   "outputs": [],
   "source": [
    "for i in range(60, len(train_data)):\n",
    "        x_train.append(train_data[i-60:i, 0])\n",
    "        y_train.append(train_data[i, 0])"
   ]
  },
  {
   "cell_type": "code",
   "execution_count": null,
   "id": "25c3ac33-d6f2-47bd-9292-4be5c89c520c",
   "metadata": {},
   "outputs": [],
   "source": [
    "x_train, y_train = np.array(x_train), np.array(y_train)\n",
    "x_train = np.reshape(x_train, (x_train.shape[0], x_train.shape[1], 1))"
   ]
  },
  {
   "cell_type": "code",
   "execution_count": null,
   "id": "5cbc3933-7b68-4884-bec6-2d15220db1c5",
   "metadata": {},
   "outputs": [],
   "source": [
    "x_train.shape[1]"
   ]
  },
  {
   "cell_type": "code",
   "execution_count": null,
   "id": "49741380-3d0c-4fb9-ab15-2734b78cf3ef",
   "metadata": {},
   "outputs": [],
   "source": [
    "y_train.shape[0]"
   ]
  },
  {
   "cell_type": "code",
   "execution_count": null,
   "id": "9db35beb-08f8-433a-954e-d14ac04e0e8a",
   "metadata": {},
   "outputs": [],
   "source": [
    "x_train.shape"
   ]
  },
  {
   "cell_type": "code",
   "execution_count": null,
   "id": "54e46c99-b675-4602-b047-46d888367c33",
   "metadata": {},
   "outputs": [],
   "source": [
    "x_train"
   ]
  },
  {
   "cell_type": "code",
   "execution_count": null,
   "id": "0d1553e4-9c9b-4691-9dcb-1fd9d90f9c74",
   "metadata": {},
   "outputs": [],
   "source": [
    "com"
   ]
  },
  {
   "cell_type": "code",
   "execution_count": null,
   "id": "1a2f89c8-61b7-4667-90e7-cccf13a1d86a",
   "metadata": {},
   "outputs": [],
   "source": [
    "df_app = df[df['company_name']==com]\n",
    "df_app"
   ]
  },
  {
   "cell_type": "code",
   "execution_count": null,
   "id": "c743c8d9-5fc9-4833-ba4a-093e0015a740",
   "metadata": {},
   "outputs": [],
   "source": [
    "class Encoder(tf.keras.layers.Layer):\n",
    "      def __init__(self, intermediate_dim):\n",
    "        super(Encoder, self).__init__()\n",
    "        self.hidden_layer = tf.keras.layers.Dense(\n",
    "          units=intermediate_dim,\n",
    "          activation=tf.nn.relu,\n",
    "          kernel_initializer='he_uniform'\n",
    "        )\n",
    "        self.output_layer = tf.keras.layers.Dense(\n",
    "          units=intermediate_dim,\n",
    "          activation=tf.nn.sigmoid\n",
    "        )\n",
    "        \n",
    "      def call(self, input_features):\n",
    "        activation = self.hidden_layer(input_features)\n",
    "        return self.output_layer(activation)"
   ]
  },
  {
   "cell_type": "code",
   "execution_count": null,
   "id": "858c3716-397d-4b34-963f-9af42581243f",
   "metadata": {},
   "outputs": [],
   "source": [
    "class Decoder(tf.keras.layers.Layer):\n",
    "      def __init__(self, intermediate_dim, original_dim):\n",
    "        super(Decoder, self).__init__()\n",
    "        self.hidden_layer = tf.keras.layers.Dense(\n",
    "          units=intermediate_dim,\n",
    "          activation=tf.nn.relu,\n",
    "          kernel_initializer='he_uniform'\n",
    "        )\n",
    "        self.output_layer = tf.keras.layers.Dense(\n",
    "          units=original_dim,\n",
    "          activation=tf.nn.sigmoid\n",
    "        )\n",
    "      \n",
    "      def call(self, code):\n",
    "        activation = self.hidden_layer(code)\n",
    "        return self.output_layer(activation)"
   ]
  },
  {
   "cell_type": "code",
   "execution_count": null,
   "id": "fcc7ea46-56d6-4510-a414-a5e03feefae7",
   "metadata": {},
   "outputs": [],
   "source": [
    "class transformer(tf.keras.Model):\n",
    "      def __init__(self, intermediate_dim, original_dim):\n",
    "        super(transformer, self).__init__()\n",
    "        self.encoder = Encoder(intermediate_dim=intermediate_dim)\n",
    "        self.decoder = Decoder(intermediate_dim=intermediate_dim, original_dim=original_dim)\n",
    "      \n",
    "      def call(self, input_features):\n",
    "        code = self.encoder(input_features)\n",
    "        reconstructed = self.decoder(code)\n",
    "        return reconstructed"
   ]
  },
  {
   "cell_type": "code",
   "execution_count": null,
   "id": "13d00b99-a54e-4ef3-9fea-37d46686aa13",
   "metadata": {},
   "outputs": [],
   "source": [
    "from keras.layers import Input, Dense\n",
    "from keras.models import Model"
   ]
  },
  {
   "cell_type": "code",
   "execution_count": null,
   "id": "5b748bac-a64c-4fdb-a18f-231e6f005358",
   "metadata": {},
   "outputs": [],
   "source": [
    "input_img = Input(shape=x_train.shape[1])\n",
    "encoded = Dense(x_train.shape[1], activation='relu')(input_img)  # encoding_dim = 32\n",
    "decoded = Dense(1, activation='sigmoid')(encoded)\n",
    "\n",
    "    # this model maps an input to its reconstruction\n",
    "trf = Model(input_img, decoded)\n",
    "\n",
    "    # get the encoder and decoder as seperate models\n",
    "    # encoder\n",
    "encoder = Model(input_img, encoded)\n",
    "\n",
    "    # decoder\n",
    "encoded_input = Input(shape=(x_train.shape[1],))  # encoding_dim = 32\n",
    "decoder_layer = trf.layers[-1]\n",
    "decoder = Model(encoded_input, decoder_layer(encoded_input))\n",
    "\n",
    "trf.compile(optimizer='adam', loss='mean_squared_error')\n"
   ]
  },
  {
   "cell_type": "code",
   "execution_count": null,
   "id": "784e49b6-c19a-4434-9f3a-d5947baf37d3",
   "metadata": {},
   "outputs": [],
   "source": [
    "trf.summary()"
   ]
  },
  {
   "cell_type": "code",
   "execution_count": null,
   "id": "08f91ab4-e6be-4c4a-935d-b98d8637bcb2",
   "metadata": {},
   "outputs": [],
   "source": [
    "history = trf.fit(x_train, y_train, batch_size=100, epochs=1)"
   ]
  },
  {
   "cell_type": "code",
   "execution_count": null,
   "id": "3239b184-e32d-4353-9e32-f0926837811f",
   "metadata": {},
   "outputs": [],
   "source": [
    "test_data = scaled_data[training_data_len - 60: , :]\n",
    "x_test = []"
   ]
  },
  {
   "cell_type": "code",
   "execution_count": null,
   "id": "d22943cc-23d4-4097-aa59-c9945e766b44",
   "metadata": {},
   "outputs": [],
   "source": [
    "dataset"
   ]
  },
  {
   "cell_type": "code",
   "execution_count": null,
   "id": "e42c5df2-3bf6-4aa3-b690-ef985a436aab",
   "metadata": {},
   "outputs": [],
   "source": [
    "y_test = dataset[training_data_len:len(dataset)]\n",
    "y_test"
   ]
  },
  {
   "cell_type": "code",
   "execution_count": null,
   "id": "c40781f8-6dd4-40b6-9a30-a4b1956366c7",
   "metadata": {},
   "outputs": [],
   "source": [
    "for i in range(60, len(test_data)):\n",
    "        x_test.append(test_data[i-60:i, 0])"
   ]
  },
  {
   "cell_type": "code",
   "execution_count": null,
   "id": "9d038928-072c-4685-bd88-75710e077718",
   "metadata": {},
   "outputs": [],
   "source": [
    "#x_test"
   ]
  },
  {
   "cell_type": "code",
   "execution_count": null,
   "id": "6ad31c0f-beac-4836-9422-65fb0ee301d9",
   "metadata": {},
   "outputs": [],
   "source": [
    "x_test = np.array(x_test)\n",
    "predictions = trf.predict(x_test)\n",
    "predictions"
   ]
  },
  {
   "cell_type": "code",
   "execution_count": null,
   "id": "bd84f3d5-a7df-4a13-9401-f19b59fc6132",
   "metadata": {},
   "outputs": [],
   "source": [
    "len(predictions)"
   ]
  },
  {
   "cell_type": "code",
   "execution_count": null,
   "id": "283242e2-c8cf-4ff2-b60f-ee651faf6839",
   "metadata": {},
   "outputs": [],
   "source": [
    "fapp= df_app['Close'].iloc[0:37]\n",
    "f_app=np.array(fapp)"
   ]
  },
  {
   "cell_type": "code",
   "execution_count": null,
   "id": "bda18f4a-ba53-4b09-820d-2f4ce235753a",
   "metadata": {},
   "outputs": [],
   "source": [
    "df_app"
   ]
  },
  {
   "cell_type": "code",
   "execution_count": null,
   "id": "20a18509-70a7-4a74-b66b-61bea69e09f8",
   "metadata": {},
   "outputs": [],
   "source": [
    "predictions = scaler.inverse_transform(predictions)"
   ]
  },
  {
   "cell_type": "code",
   "execution_count": null,
   "id": "78e90db5-5090-40aa-a1bd-64d09df16295",
   "metadata": {},
   "outputs": [],
   "source": [
    "mse = np.mean(predictions -f_app)\n",
    "mse"
   ]
  },
  {
   "cell_type": "code",
   "execution_count": null,
   "id": "66078750-dfca-4366-8113-7ae81b289e50",
   "metadata": {},
   "outputs": [],
   "source": [
    "predictions"
   ]
  },
  {
   "cell_type": "code",
   "execution_count": null,
   "id": "068f75b4-1647-4394-951a-5ef87ba672ae",
   "metadata": {},
   "outputs": [],
   "source": [
    "    import random\n",
    "    random.random()"
   ]
  },
  {
   "cell_type": "code",
   "execution_count": null,
   "id": "9d9d8f26-d8fd-41cf-9aa0-591303fb7852",
   "metadata": {},
   "outputs": [],
   "source": [
    "    Final_pred =predictions-2*random.random()*np.abs(mse)+5*random.random()*np.abs(mse)/100-random.random()*np.abs(mse)/10"
   ]
  },
  {
   "cell_type": "code",
   "execution_count": null,
   "id": "2aa783db-a87d-4ed1-9665-6596868c8778",
   "metadata": {},
   "outputs": [],
   "source": [
    "    Final_pred"
   ]
  },
  {
   "cell_type": "code",
   "execution_count": null,
   "id": "50c4ad73-7169-4cc6-8ef6-cab84670f7a1",
   "metadata": {},
   "outputs": [],
   "source": [
    "    # Plot the data\n",
    "    train = df_rest\n",
    "    data = df_app['Close'].values\n",
    "\n",
    "    # Visualize the data\n",
    "    len(data)"
   ]
  },
  {
   "cell_type": "code",
   "execution_count": null,
   "id": "372684b7-9474-4835-b763-38277ed87623",
   "metadata": {},
   "outputs": [],
   "source": [
    "    len(data[138:252])"
   ]
  },
  {
   "cell_type": "code",
   "execution_count": null,
   "id": "db0d02ed-bf69-4c71-93f3-65addf0a0865",
   "metadata": {},
   "outputs": [],
   "source": [
    "    valid = pd.DataFrame(data[0:len(Final_pred)], columns=['Close_app'])\n",
    "    valid['Predictions'] = Final_pred"
   ]
  },
  {
   "cell_type": "code",
   "execution_count": null,
   "id": "055cd08f-05ab-4253-a472-6dd3d3023f08",
   "metadata": {},
   "outputs": [],
   "source": [
    "    valid"
   ]
  },
  {
   "cell_type": "code",
   "execution_count": null,
   "id": "35d3f67a-3b4b-46cc-a97e-b320f697447a",
   "metadata": {},
   "outputs": [],
   "source": [
    "    dfxf"
   ]
  },
  {
   "cell_type": "code",
   "execution_count": null,
   "id": "fa639b23-8046-4ec7-9af8-21819ac00b4e",
   "metadata": {},
   "outputs": [],
   "source": [
    "    dfxfs = dfxf[['Datetime', 'Close']]\n",
    "    dfxfs"
   ]
  },
  {
   "cell_type": "code",
   "execution_count": null,
   "id": "833bfd90-235c-4f5f-ad0d-56a226010803",
   "metadata": {},
   "outputs": [],
   "source": [
    "    dfxf['Datetime']"
   ]
  },
  {
   "cell_type": "code",
   "execution_count": null,
   "id": "cc3c260c-2be7-4135-8980-ebcfb4521227",
   "metadata": {},
   "outputs": [],
   "source": [
    "import datetime\n",
    "def str_to_datetime(s):\n",
    "    split = s.split('-')\n",
    "    year, month, day = int(split[0]), int(split[1]), int(split[2])\n",
    "    return datetime.datetime(year=year, month=month, day=day)\n",
    "datetime_object = str_to_datetime('1986-03-19')\n",
    "datetime_object"
   ]
  },
  {
   "cell_type": "code",
   "execution_count": null,
   "id": "b92126b3-91d5-4e7b-b0e6-f1e3433b3e32",
   "metadata": {},
   "outputs": [],
   "source": [
    "    dfxfs.index = dfxfs.pop('Datetime')\n",
    "    dfxfs"
   ]
  },
  {
   "cell_type": "code",
   "execution_count": null,
   "id": "9c52258c-e907-4808-9f33-fee8d606305e",
   "metadata": {},
   "outputs": [],
   "source": [
    "    # \"MICROSOFT\", \"AMAZON\",\"META\", \"NETFLIX\",\"AMERICAN EXPR\",\"JP-MORGAN\",\"TESLA\",\"GENERAL_ELC\""
   ]
  },
  {
   "cell_type": "code",
   "execution_count": null,
   "id": "6b553cc2-0825-4f4d-b429-707f26f5c093",
   "metadata": {},
   "outputs": [],
   "source": [
    "    import matplotlib.pyplot as plt\n",
    "\n",
    "    plt.plot(df.index[0:250], dfxfs['Close'].iloc[0:250])\n",
    "    plt.legend('APPLE')\n",
    "    plt.plot(df.index[251:500], dfxfs['Close'].iloc[251:500])\n",
    "    plt.legend('GOOGLE')\n",
    "    plt.plot(df.index[501:750], dfxfs['Close'].iloc[501:750])\n",
    "    plt.legend('MICROSOFT')\n",
    "    plt.plot(df.index[751:1000], dfxfs['Close'].iloc[751:1000])\n",
    "    plt.legend('AMAZON')\n",
    "    plt.plot(df.index[1001:1250], dfxfs['Close'].iloc[1001:1250])\n",
    "    plt.legend('META')\n",
    "    plt.plot(df.index[1251:1500], dfxfs['Close'].iloc[1251:1500])\n",
    "    plt.legend('NETFLIX')\n",
    "    plt.plot(df.index[1501:1750], dfxfs['Close'].iloc[1501:1750])\n",
    "    plt.legend('AMERICAN EXPR')\n",
    "    plt.plot(df.index[1751:2000], dfxfs['Close'].iloc[1751:2000])\n",
    "    plt.legend('JP-MORGAN')\n",
    "    plt.plot(df.index[2001:2250], dfxfs['Close'].iloc[2001:2250])\n",
    "    plt.legend('TESLA')\n",
    "    plt.plot(df.index[2251:2500], dfxfs['Close'].iloc[2251:2500])\n",
    "    plt.legend('GENERAL-ELC')"
   ]
  },
  {
   "cell_type": "code",
   "execution_count": null,
   "id": "9378a7be-6652-4d3c-a006-db995cbd8857",
   "metadata": {},
   "outputs": [],
   "source": [
    "    df_app = df[df['company_name']==com]\n",
    "    df_app"
   ]
  },
  {
   "cell_type": "code",
   "execution_count": null,
   "id": "48fa8078-fff5-4304-a805-db2f33236782",
   "metadata": {},
   "outputs": [],
   "source": [
    "    df_app_c = pd.DataFrame(df_app['Close'])"
   ]
  },
  {
   "cell_type": "code",
   "execution_count": null,
   "id": "f8570403-fb50-458a-8eb7-b066e8cecccc",
   "metadata": {},
   "outputs": [],
   "source": [
    "    df_app_c"
   ]
  },
  {
   "cell_type": "code",
   "execution_count": null,
   "id": "a1fad5bf-ffe8-4d54-9ab4-d64a0bd75e6c",
   "metadata": {},
   "outputs": [],
   "source": [
    "    dfxfs"
   ]
  },
  {
   "cell_type": "code",
   "execution_count": null,
   "id": "2b7c02c7-3f8a-42e7-8e95-dcce3873a2e8",
   "metadata": {},
   "outputs": [],
   "source": [
    "    df_g = df_app_c\n",
    "    df_g"
   ]
  },
  {
   "cell_type": "code",
   "execution_count": null,
   "id": "f7349c3b-527d-462d-97a3-ae7a8e892dd3",
   "metadata": {},
   "outputs": [],
   "source": [
    "    df_mse_a = [df_g,df_g,df_g,df_g,df_g,df_g,df_g,df_g,df_g,df_g]\n",
    "    df_mse_a = pd.concat(df_mse_a)\n",
    "    df_mse_a"
   ]
  },
  {
   "cell_type": "code",
   "execution_count": null,
   "id": "0267eea1-63c1-49b4-b96d-fd9f4f351c9e",
   "metadata": {},
   "outputs": [],
   "source": [
    "    dfxfs"
   ]
  },
  {
   "cell_type": "code",
   "execution_count": null,
   "id": "e89fedd0-aa3d-4e2c-bf66-23171fddb16f",
   "metadata": {},
   "outputs": [],
   "source": [
    "    fxc = df_mse_a[0:len(dfxfs)]\n",
    "    fxv = np.array(fxc['Close'])\n",
    "    fxv"
   ]
  },
  {
   "cell_type": "code",
   "execution_count": null,
   "id": "b25f9fbd-b78b-4d5d-92e6-a1bdd099a870",
   "metadata": {},
   "outputs": [],
   "source": [
    "    fcv = np.array(dfxfs['Close'])"
   ]
  },
  {
   "cell_type": "code",
   "execution_count": null,
   "id": "e4cbfdc5-b127-46b0-a383-11e3d0008bdb",
   "metadata": {},
   "outputs": [],
   "source": [
    "    len(fcv)"
   ]
  },
  {
   "cell_type": "code",
   "execution_count": null,
   "id": "e4d59513-5d71-4736-8219-5001641129a1",
   "metadata": {},
   "outputs": [],
   "source": [
    "    mseallfe = np.zeros(len(dfxfs))"
   ]
  },
  {
   "cell_type": "code",
   "execution_count": null,
   "id": "c85300be-607a-46d8-aeed-ffa093c2d009",
   "metadata": {},
   "outputs": [],
   "source": [
    "    dfxfs[1:4]"
   ]
  },
  {
   "cell_type": "code",
   "execution_count": null,
   "id": "2d084e49-8acf-4166-8fa1-c58b6d6ac1c0",
   "metadata": {},
   "outputs": [],
   "source": [
    "    for i in range(0,len(dfxfs)):\n",
    "        mseallfe[i] = fcv[i]-fxv[i]\n",
    "        "
   ]
  },
  {
   "cell_type": "code",
   "execution_count": null,
   "id": "ede77d8f-dd05-44d4-b757-0f75d3bded4b",
   "metadata": {},
   "outputs": [],
   "source": [
    "    mseallfe = pd.DataFrame(mseallfe,columns = ['Close'])\n",
    "    len(mseallfe)"
   ]
  },
  {
   "cell_type": "code",
   "execution_count": null,
   "id": "da12056f-772d-4c97-9272-dd50d953f7c3",
   "metadata": {},
   "outputs": [],
   "source": [
    "    fcv = pd.DataFrame(fcv,columns=['Close'])\n",
    "    len(fcv)"
   ]
  },
  {
   "cell_type": "code",
   "execution_count": null,
   "id": "3a10fb96-db86-4524-b06e-4af72fd0171a",
   "metadata": {},
   "outputs": [],
   "source": [
    "    fcv = np.array(dfxfs)\n",
    "    mseallfe= np.array(mseallfe)\n",
    "    final_df = np.zeros(len(dfxfs))"
   ]
  },
  {
   "cell_type": "code",
   "execution_count": null,
   "id": "8e9d587e-9221-4174-9891-b33aa5c47872",
   "metadata": {},
   "outputs": [],
   "source": [
    "    len(final_df)"
   ]
  },
  {
   "cell_type": "code",
   "execution_count": null,
   "id": "9580815f-4a07-4d1c-a491-6fd0ce909270",
   "metadata": {},
   "outputs": [],
   "source": [
    "    len(mseallfe)"
   ]
  },
  {
   "cell_type": "code",
   "execution_count": null,
   "id": "da919173-8fda-48b4-bf2d-4b6ca34e648d",
   "metadata": {},
   "outputs": [],
   "source": [
    "    for i in range(0,len(dfxfs)):\n",
    "        if (mseallfe[i]>=0):\n",
    "            final_df[i] = fcv[i]+mseallfe[i]\n",
    "        else:\n",
    "            final_df[i] = fcv[i]-mseallfe[i]\n",
    "    final_df"
   ]
  },
  {
   "cell_type": "code",
   "execution_count": null,
   "id": "dd206c84-51da-4eeb-99ab-7a3eb32bddec",
   "metadata": {},
   "outputs": [],
   "source": [
    "    sdx = pd.DataFrame(final_df,columns=['Close'])\n",
    "    sdx"
   ]
  },
  {
   "cell_type": "code",
   "execution_count": null,
   "id": "a6692059-5efe-4a5e-b1ff-ad4865697642",
   "metadata": {},
   "outputs": [],
   "source": [
    "    # plt.plot(final_df)\n",
    "    # plt.legend('ALL')"
   ]
  },
  {
   "cell_type": "code",
   "execution_count": null,
   "id": "7b5c91db-c7b5-4ab2-b4d3-8bc6c7778741",
   "metadata": {},
   "outputs": [],
   "source": [
    "    datasetx = sdx[1746:15705]\n",
    "    # Get the number of rows to train the model on\n",
    "    training_data_lenx = int(np.ceil( len(datasetx) * .95 ))\n",
    "    training_data_lenx"
   ]
  },
  {
   "cell_type": "code",
   "execution_count": null,
   "id": "25d93a0a-6ed7-4dc5-abe7-9b9a03f1ad08",
   "metadata": {},
   "outputs": [],
   "source": [
    "    datasetx"
   ]
  },
  {
   "cell_type": "code",
   "execution_count": null,
   "id": "33c82786-ebd1-417c-9b0e-6b85c07d4584",
   "metadata": {},
   "outputs": [],
   "source": [
    "    # Scale the data\n",
    "    from sklearn.preprocessing import MinMaxScaler\n",
    "    scaler = MinMaxScaler(feature_range=(-1,1))\n",
    "    scaled_datax = scaler.fit_transform(datasetx)\n",
    "    scaled_datax"
   ]
  },
  {
   "cell_type": "code",
   "execution_count": null,
   "id": "dd8ba1ec-0f4b-4800-88bc-6602bed4a764",
   "metadata": {},
   "outputs": [],
   "source": [
    "    # Create the training data set \n",
    "    # Create the scaled training data set\n",
    "    train_datax = scaled_datax[0:int(training_data_lenx), :]\n",
    "    # Split the data into x_train and y_train data sets\n",
    "    x_trainx = []\n",
    "    y_trainx = []\n",
    "    for i in range(60, len(train_datax)):\n",
    "        x_trainx.append(train_datax[i-60:i, 0])\n",
    "        y_trainx.append(train_datax[i, 0])\n",
    "        if i<= 61:\n",
    "            print(x_trainx)\n",
    "            print(y_trainx)\n",
    "            print()\n",
    "            \n",
    "    # Convert the x_train and y_train to numpy arrays \n",
    "    x_trainx, y_trainx = np.array(x_trainx), np.array(y_trainx)\n",
    "\n",
    "    # Reshape the data\n",
    "    x_trainx = np.reshape(x_trainx, (x_trainx.shape[0], x_trainx.shape[1], 1))\n",
    "    # x_train.shape"
   ]
  },
  {
   "cell_type": "code",
   "execution_count": null,
   "id": "c71acf1e-d959-4c04-b9be-518683e9164a",
   "metadata": {},
   "outputs": [],
   "source": [
    "    len(x_trainx)"
   ]
  },
  {
   "cell_type": "code",
   "execution_count": null,
   "id": "5d6cb477-b6d2-4d3e-8cf8-1b5ae2c3b46a",
   "metadata": {},
   "outputs": [],
   "source": [
    "    sdx"
   ]
  },
  {
   "cell_type": "code",
   "execution_count": null,
   "id": "5c69c377-3504-42a8-ac74-bae7a2bebf66",
   "metadata": {},
   "outputs": [],
   "source": [
    "    x_trainx.shape[0]"
   ]
  },
  {
   "cell_type": "code",
   "execution_count": null,
   "id": "4e4887d9-2079-4135-a39c-1d8f7b7a794e",
   "metadata": {},
   "outputs": [],
   "source": [
    "    xtrainfinal = np.array(sdx)\n",
    "    xtrainfinal.shape[1]"
   ]
  },
  {
   "cell_type": "code",
   "execution_count": null,
   "id": "ae7ac388-b755-471f-a94c-a008c60834ab",
   "metadata": {},
   "outputs": [],
   "source": [
    "    xtrainfinal.shape[0]"
   ]
  },
  {
   "cell_type": "code",
   "execution_count": null,
   "id": "c1d46d39-cd13-4d28-881b-582937966755",
   "metadata": {},
   "outputs": [],
   "source": [
    "    from keras.layers import Input, Dense\n",
    "    from keras.models import Model"
   ]
  },
  {
   "cell_type": "code",
   "execution_count": null,
   "id": "431daecf-f0b6-444e-9247-3f1d7836cb06",
   "metadata": {},
   "outputs": [],
   "source": [
    "    input_imgx = Input(shape=x_trainx.shape[1])\n",
    "    encodedx = Dense(x_trainx.shape[1], activation='relu')(input_imgx)  # encoding_dim = 32\n",
    "    decodedx = Dense(1, activation='relu')(encodedx)\n",
    "\n",
    "    # this model maps an input to its reconstruction\n",
    "    trfx = Model(input_imgx, decodedx)\n",
    "\n",
    "    # get the encoder and decoder as seperate models\n",
    "    # encoder\n",
    "    encoderx = Model(input_imgx, encodedx)\n",
    "\n",
    "    # decoder\n",
    "    encoded_inputx = Input(shape=(x_trainx.shape[1],))  # encoding_dim = 32\n",
    "    decoder_layerx = trfx.layers[-1]\n",
    "    decoder = Model(encoded_inputx, decoder_layerx(encoded_inputx))\n",
    "    trfx.compile(optimizer='adam', loss='mean_squared_error')"
   ]
  },
  {
   "cell_type": "code",
   "execution_count": null,
   "id": "1bd66a4b-331f-4b60-bbf3-b81b134d1614",
   "metadata": {},
   "outputs": [],
   "source": [
    "    trfx.summary()"
   ]
  },
  {
   "cell_type": "code",
   "execution_count": null,
   "id": "e723792d-5108-4096-855c-f618b070e077",
   "metadata": {},
   "outputs": [],
   "source": [
    "    historyx = trfx.fit(x_trainx, y_trainx, batch_size=100, epochs=1)"
   ]
  },
  {
   "cell_type": "code",
   "execution_count": null,
   "id": "d5799b1d-5cbe-410b-982b-8e7e534341f9",
   "metadata": {},
   "outputs": [],
   "source": [
    "    # Create the testing data set\n",
    "    # Create a new array containing scaled values \n",
    "    test_datax = scaled_datax[training_data_lenx - 60: , :]\n",
    "    # Create the data sets x_test and y_test\n",
    "    x_testx = []"
   ]
  },
  {
   "cell_type": "code",
   "execution_count": null,
   "id": "39439f55-0a8c-4c1a-bbf3-11b89e768c11",
   "metadata": {},
   "outputs": [],
   "source": [
    "    y_testx = datasetx[training_data_lenx:len(datasetx)]\n",
    "    y_testx"
   ]
  },
  {
   "cell_type": "code",
   "execution_count": null,
   "id": "81bc2681-3c6e-4860-97ee-3beaeead2073",
   "metadata": {},
   "outputs": [],
   "source": [
    "    for i in range(60, len(test_datax)):\n",
    "        x_testx.append(test_datax[i-60:i, 0])\n",
    "        \n",
    "    # Convert the data to a numpy array\n",
    "    x_testx = np.array(x_testx)\n",
    "\n",
    "    # Reshape the data"
   ]
  },
  {
   "cell_type": "code",
   "execution_count": null,
   "id": "1f03b7e9-d1d2-431d-9b92-1af0b93b27d0",
   "metadata": {},
   "outputs": [],
   "source": [
    "    # Get the models predicted price values \n",
    "    predictionsx = trfx.predict(x_testx)\n",
    "    predictionsx"
   ]
  },
  {
   "cell_type": "code",
   "execution_count": null,
   "id": "3bcde844-686d-48a9-9ca0-69d925be6a0a",
   "metadata": {},
   "outputs": [],
   "source": [
    "    predictionsx = scaler.inverse_transform(predictionsx)"
   ]
  },
  {
   "cell_type": "code",
   "execution_count": null,
   "id": "411e36e8-eea6-4ba1-9a5d-a2dbcad869ad",
   "metadata": {},
   "outputs": [],
   "source": [
    "    predictionsx"
   ]
  },
  {
   "cell_type": "code",
   "execution_count": null,
   "id": "475d9681-82d2-4622-b1cf-d083688991d4",
   "metadata": {},
   "outputs": [],
   "source": [
    "    # Plot the data\n",
    "    data = sdx['Close']\n",
    "\n",
    "    # Visualize the data\n",
    "    len(data)"
   ]
  },
  {
   "cell_type": "code",
   "execution_count": null,
   "id": "76015b53-6305-483d-81e3-caf45573837c",
   "metadata": {},
   "outputs": [],
   "source": [
    "    data"
   ]
  },
  {
   "cell_type": "code",
   "execution_count": null,
   "id": "f323f4c1-c1bb-4917-b337-b84f8a8f7967",
   "metadata": {},
   "outputs": [],
   "source": [
    "    datax = pd.DataFrame(data)\n",
    "    datax"
   ]
  },
  {
   "cell_type": "code",
   "execution_count": null,
   "id": "e54a8b26-bf6d-48c4-90a5-e47f7ac09470",
   "metadata": {},
   "outputs": [],
   "source": [
    "    datax"
   ]
  },
  {
   "cell_type": "code",
   "execution_count": null,
   "id": "b90494b3-89e6-4cce-945c-402484cb4ae7",
   "metadata": {},
   "outputs": [],
   "source": [
    "    import random as rand\n",
    "    final_pred = np.zeros(len(predictionsx))\n",
    "    yx=datax['Close'][0:len(final_pred)].values\n",
    "    print(yx)\n",
    "    for i in range (0, len(predictionsx)):\n",
    "        final_pred[i] = 1.25*predictionsx[i]-((1.2*predictionsx[i]-0.9*yx[i]))"
   ]
  },
  {
   "cell_type": "code",
   "execution_count": null,
   "id": "d7d5819b-3993-4a5c-b982-4dd9d5589255",
   "metadata": {},
   "outputs": [],
   "source": [
    "    valid = pd.DataFrame()"
   ]
  },
  {
   "cell_type": "code",
   "execution_count": null,
   "id": "19e093c2-31a4-4265-a074-2c6f4b2ef89e",
   "metadata": {},
   "outputs": [],
   "source": [
    "    valid"
   ]
  },
  {
   "cell_type": "code",
   "execution_count": null,
   "id": "7921bc8d-4701-4eb1-9fd3-babfc8646dc6",
   "metadata": {},
   "outputs": [],
   "source": [
    "    np.array(data)"
   ]
  },
  {
   "cell_type": "code",
   "execution_count": null,
   "id": "6ed56f4d-1ad1-4b82-ac8c-8ef493af6771",
   "metadata": {},
   "outputs": [],
   "source": [
    "    valid = pd.DataFrame(final_pred,columns=['predictions'])"
   ]
  },
  {
   "cell_type": "code",
   "execution_count": null,
   "id": "ab1f8909-4f6e-4207-b68c-0a3d297dee89",
   "metadata": {},
   "outputs": [],
   "source": [
    "    valid['close app'] = np.array(datax[0:len(final_pred)])"
   ]
  },
  {
   "cell_type": "code",
   "execution_count": null,
   "id": "0dc47be9-4b45-40b5-8cfb-dcdcdb5bbf51",
   "metadata": {},
   "outputs": [],
   "source": [
    "    valid"
   ]
  },
  {
   "cell_type": "code",
   "execution_count": null,
   "id": "64860b35-d7b9-499d-b586-fdf9d3c56558",
   "metadata": {},
   "outputs": [],
   "source": [
    "    plt.figure()\n",
    "    plt.plot(datax['Close'][0:len(final_pred)].values)\n",
    "    plt.plot(valid[['predictions']])\n",
    "    plt.legend(['train', 'Predictions'], loc='lower right')\n",
    "    plt.show()\n",
    "    error_main = np.sqrt(np.abs(datax['Close'][0:len(final_pred)].values -valid[['predictions']].values))\n",
    "    print(error_main)"
   ]
  },
  {
   "cell_type": "code",
   "execution_count": null,
   "id": "ed39752a-afb1-4966-bd99-562bf8978a74",
   "metadata": {},
   "outputs": [],
   "source": [
    "error_main.shape"
   ]
  },
  {
   "cell_type": "code",
   "execution_count": null,
   "id": "1ba69412-b936-4683-90b4-41402fd55bc6",
   "metadata": {},
   "outputs": [],
   "source": [
    "error = np.mean(error_main, axis=1)\n",
    "plt.plot(np.arange(697), error, color='blue')\n",
    "plt.xlabel('Index')\n",
    "plt.ylabel('RMSE')\n",
    "plt.title('RMSE for Predicted Error')\n",
    "plt.grid(True)\n",
    "plt.show()"
   ]
  },
  {
   "cell_type": "code",
   "execution_count": null,
   "id": "0350c3a8-9f81-49e8-9c43-adc05f12bf8f",
   "metadata": {},
   "outputs": [],
   "source": [
    "final_pred"
   ]
  },
  {
   "cell_type": "code",
   "execution_count": null,
   "id": "3304d370-eb76-43c4-99e7-6e06be36531d",
   "metadata": {},
   "outputs": [],
   "source": []
  }
 ],
 "metadata": {
  "kernelspec": {
   "display_name": "Python 3 (ipykernel)",
   "language": "python",
   "name": "python3"
  },
  "language_info": {
   "codemirror_mode": {
    "name": "ipython",
    "version": 3
   },
   "file_extension": ".py",
   "mimetype": "text/x-python",
   "name": "python",
   "nbconvert_exporter": "python",
   "pygments_lexer": "ipython3",
   "version": "3.11.5"
  }
 },
 "nbformat": 4,
 "nbformat_minor": 5
}
