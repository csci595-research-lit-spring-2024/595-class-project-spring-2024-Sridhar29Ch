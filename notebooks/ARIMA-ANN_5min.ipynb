{
 "cells": [
  {
   "cell_type": "code",
   "execution_count": null,
   "id": "89468748-8128-4273-947f-5411e1cf2424",
   "metadata": {},
   "outputs": [],
   "source": [
    "import numpy as np\n",
    "import matplotlib.pyplot as plt\n",
    "import logging\n",
    "import time\n",
    "import numpy as np\n",
    "import matplotlib.pyplot as plt\n",
    "import sys\n",
    "import pandas as pd\n",
    "import numpy as np\n",
    "import matplotlib.pyplot as plt\n",
    "import seaborn as sns\n",
    "from pandas_datareader.data import DataReader\n",
    "import yfinance as yf\n",
    "from pandas_datareader import data as pdr\n",
    "from datetime import datetime\n",
    "from sklearn.preprocessing import MinMaxScaler\n",
    "from statsmodels.tsa.arima.model import ARIMA\n",
    "from tensorflow.keras.models import Sequential\n",
    "from tensorflow.keras.layers import Dense"
   ]
  },
  {
   "cell_type": "code",
   "execution_count": null,
   "id": "262c4dd2-7fa1-4b12-bede-9057538e1aa6",
   "metadata": {},
   "outputs": [],
   "source": [
    "com='GOOGLE'\n",
    "yf.pdr_override()"
   ]
  },
  {
   "cell_type": "code",
   "execution_count": null,
   "id": "de8b558f-9906-4a7f-b1af-07a250262c9e",
   "metadata": {},
   "outputs": [],
   "source": [
    "tech_list = ['AAPL', 'GOOG', 'MSFT', 'AMZN',\"META\",\"NFLX\",\"AMX\",\"JPM\",\"TSLA\",\"GE\"]"
   ]
  },
  {
   "cell_type": "code",
   "execution_count": null,
   "id": "83765167-d15a-48c9-82f8-46095b0fff8f",
   "metadata": {},
   "outputs": [],
   "source": [
    "end = datetime.now()\n",
    "start = datetime(end.year - 1, end.month, end.day)"
   ]
  },
  {
   "cell_type": "code",
   "execution_count": null,
   "id": "5ae6b099-b06b-47af-a091-5dab228e5902",
   "metadata": {},
   "outputs": [],
   "source": [
    "for stock in tech_list:\n",
    "        globals()[stock] = yf.download(stock,period=\"60d\", interval=\"5m\")\n",
    "        dfdc = yf.download(stock, start, end)\n",
    "        dfdc.to_csv('stockdc.csv')"
   ]
  },
  {
   "cell_type": "code",
   "execution_count": null,
   "id": "ecf1ba26-5201-4659-9098-841d8b5faaa1",
   "metadata": {},
   "outputs": [],
   "source": [
    "company_list = [AAPL, GOOG, MSFT, AMZN,META,NFLX,AMX,JPM,TSLA,GE]\n",
    "company_name = [\"APPLE\", \"GOOGLE\", \"MICROSOFT\", \"AMAZON\",\"META\", \"NETFLIX\",\"AMERICAN EXPR\",\"JP-MORGAN\",\"TESLA\",\"GENERAL_ELC\"]"
   ]
  },
  {
   "cell_type": "code",
   "execution_count": null,
   "id": "dd80dfa8-9e87-4702-bc46-514194cdd0ca",
   "metadata": {},
   "outputs": [],
   "source": [
    "for company, com_name in zip(company_list, company_name):\n",
    "        company[\"company_name\"] = com_name"
   ]
  },
  {
   "cell_type": "code",
   "execution_count": null,
   "id": "57b66a2d-7ffb-4b33-b16d-b40ec1d9baa8",
   "metadata": {},
   "outputs": [],
   "source": [
    "df = pd.concat(company_list, axis=0)\n",
    "df"
   ]
  },
  {
   "cell_type": "code",
   "execution_count": null,
   "id": "1b6978f8-ee1d-4e87-acf2-f2c0e956b570",
   "metadata": {},
   "outputs": [],
   "source": [
    "df.to_csv('stock.csv')"
   ]
  },
  {
   "cell_type": "code",
   "execution_count": null,
   "id": "eb649576-772a-4403-9aad-a63da15c2b07",
   "metadata": {},
   "outputs": [],
   "source": [
    "dfxf = pd.read_csv(\"stock.csv\")\n",
    "dfxf"
   ]
  },
  {
   "cell_type": "code",
   "execution_count": null,
   "id": "e7eb5dd8-1056-4a4c-9379-55cf171dd6f2",
   "metadata": {},
   "outputs": [],
   "source": [
    "df_rest = df[df['company_name']!=com]\n",
    "df_rest"
   ]
  },
  {
   "cell_type": "code",
   "execution_count": null,
   "id": "f082b5b8-67f5-4d0c-b016-b015d42ceeef",
   "metadata": {},
   "outputs": [],
   "source": [
    "X= df_rest.drop(\"company_name\", axis='columns')"
   ]
  },
  {
   "cell_type": "code",
   "execution_count": null,
   "id": "c699f454-e557-4378-bc15-922c7bb3b08d",
   "metadata": {},
   "outputs": [],
   "source": [
    "dataset = X.iloc[:,3:4]\n",
    "dataset"
   ]
  },
  {
   "cell_type": "code",
   "execution_count": null,
   "id": "3fc2bd5b-4f96-4b4b-b5bc-ab18009c9ae3",
   "metadata": {},
   "outputs": [],
   "source": [
    "training_data_len = int(np.ceil( len(dataset) * .95 ))\n",
    "training_data_len"
   ]
  },
  {
   "cell_type": "code",
   "execution_count": null,
   "id": "faee2357-d457-489b-ac02-59f6015e8d41",
   "metadata": {},
   "outputs": [],
   "source": [
    "scaler = MinMaxScaler(feature_range=(-1,1))\n",
    "scaled_data = scaler.fit_transform(dataset)\n",
    "scaled_data"
   ]
  },
  {
   "cell_type": "code",
   "execution_count": null,
   "id": "28b8707b-8f25-477c-bd7e-7566acf3c712",
   "metadata": {},
   "outputs": [],
   "source": [
    "train_set, test_set = scaled_data[:training_data_len], scaled_data[training_data_len:]"
   ]
  },
  {
   "cell_type": "code",
   "execution_count": null,
   "id": "e75d9b23-17a9-4257-b125-a1164c855df5",
   "metadata": {},
   "outputs": [],
   "source": [
    "df_app = df[df['company_name']==com]\n",
    "df_app"
   ]
  },
  {
   "cell_type": "code",
   "execution_count": null,
   "id": "961216cd-6e84-4fce-84b5-98f6d705f66b",
   "metadata": {},
   "outputs": [],
   "source": [
    "model = ARIMA(train_set, order=(2, 1, 3))\n",
    "model_fit = model.fit()"
   ]
  },
  {
   "cell_type": "code",
   "execution_count": null,
   "id": "0a2b095a-107b-440d-8346-0e27070da8fe",
   "metadata": {},
   "outputs": [],
   "source": [
    "arima_prediction = model_fit.forecast(steps=len(test_set))\n",
    "residuals = test_set - arima_prediction"
   ]
  },
  {
   "cell_type": "code",
   "execution_count": null,
   "id": "52b46f15-dba2-40b2-b7a2-f28bbbf227dc",
   "metadata": {},
   "outputs": [],
   "source": [
    "residuals.shape"
   ]
  },
  {
   "cell_type": "code",
   "execution_count": null,
   "id": "cb6c2c67-8dc5-439d-becd-cea4b747977f",
   "metadata": {},
   "outputs": [],
   "source": [
    "X_train = residuals[:-1].reshape(-1, 1)  \n",
    "y_train = residuals[1:].reshape(-1, 1) "
   ]
  },
  {
   "cell_type": "code",
   "execution_count": null,
   "id": "a787b9d9-8661-440a-9a2d-78feb23af7d6",
   "metadata": {},
   "outputs": [],
   "source": [
    "ann_model = Sequential()\n",
    "ann_model.add(Dense(10, input_dim=X_train.shape[1], activation='relu'))\n",
    "ann_model.add(Dense(1))\n",
    "ann_model.compile(loss='mean_squared_error', optimizer='adam')\n",
    "ann_model.fit(X_train, y_train, epochs=100, batch_size=10, verbose=0)"
   ]
  },
  {
   "cell_type": "code",
   "execution_count": null,
   "id": "6a16c2f6-d39b-4962-876f-110c138dea88",
   "metadata": {},
   "outputs": [],
   "source": [
    "ann_model.summary()"
   ]
  },
  {
   "cell_type": "code",
   "execution_count": null,
   "id": "710ef373-7826-4d66-94d8-2e7a998b8ede",
   "metadata": {},
   "outputs": [],
   "source": [
    "history = ann_model.fit(X_train, y_train, batch_size=1, epochs=1)"
   ]
  },
  {
   "cell_type": "code",
   "execution_count": null,
   "id": "ed5ac4c6-c3e4-45d2-983f-b848a8c32690",
   "metadata": {},
   "outputs": [],
   "source": [
    "test_data = scaled_data[training_data_len - 60: , :]\n",
    "x_test = []"
   ]
  },
  {
   "cell_type": "code",
   "execution_count": null,
   "id": "0d92f990-2abb-452b-bd3a-299ce7157bf9",
   "metadata": {},
   "outputs": [],
   "source": [
    "dataset"
   ]
  },
  {
   "cell_type": "code",
   "execution_count": null,
   "id": "1605037b-48f9-4373-af4d-aecc9e551a1b",
   "metadata": {},
   "outputs": [],
   "source": [
    "y_test = dataset[training_data_len:len(dataset)]\n",
    "y_test"
   ]
  },
  {
   "cell_type": "code",
   "execution_count": null,
   "id": "4f685dcb-0422-40d6-b7fd-ece3e885d04a",
   "metadata": {},
   "outputs": [],
   "source": [
    "for i in range(60, len(test_data)):\n",
    "        x_test.append(test_data[i-60:i, 0])"
   ]
  },
  {
   "cell_type": "code",
   "execution_count": null,
   "id": "6267aa75-2d72-4fd5-a4e6-8fecbe508c88",
   "metadata": {},
   "outputs": [],
   "source": [
    "x_test = np.array(x_test)"
   ]
  },
  {
   "cell_type": "code",
   "execution_count": null,
   "id": "e072074b-5f38-4fa5-b7a5-ea7612c21931",
   "metadata": {},
   "outputs": [],
   "source": [
    "x_test"
   ]
  },
  {
   "cell_type": "code",
   "execution_count": null,
   "id": "f6095699-328b-482a-97dd-9fbdc7d768b8",
   "metadata": {},
   "outputs": [],
   "source": [
    "x_test_mean_array = []\n",
    "for sub in x_test:\n",
    "    x_test_mean = np.mean(sub)\n",
    "    x_test_mean_array.append(x_test_mean)"
   ]
  },
  {
   "cell_type": "code",
   "execution_count": null,
   "id": "01479845-dfbc-4db3-b725-fd7ac8da2795",
   "metadata": {},
   "outputs": [],
   "source": [
    "predictions = ann_model.predict(x_test_mean_array)\n",
    "predictions"
   ]
  },
  {
   "cell_type": "code",
   "execution_count": null,
   "id": "4100d927-0e77-4fa3-90fa-990e075b83c1",
   "metadata": {},
   "outputs": [],
   "source": [
    "len(predictions)"
   ]
  },
  {
   "cell_type": "code",
   "execution_count": null,
   "id": "a63ca192-72c3-4059-a0d3-301c519fb1de",
   "metadata": {},
   "outputs": [],
   "source": [
    "fapp= df_app['Close'].iloc[0:37]\n",
    "f_app=np.array(fapp)"
   ]
  },
  {
   "cell_type": "code",
   "execution_count": null,
   "id": "95d26d8a-882b-46b7-9997-543b1a2e2009",
   "metadata": {},
   "outputs": [],
   "source": [
    "predictions = scaler.inverse_transform(predictions)"
   ]
  },
  {
   "cell_type": "code",
   "execution_count": null,
   "id": "f4d61080-4209-4650-98c1-7e7bb3e4e644",
   "metadata": {},
   "outputs": [],
   "source": [
    "mse = np.mean(predictions -f_app)\n",
    "mse"
   ]
  },
  {
   "cell_type": "code",
   "execution_count": null,
   "id": "b52397fe-b35a-4902-b865-c01740e12c7b",
   "metadata": {},
   "outputs": [],
   "source": [
    "predictions"
   ]
  },
  {
   "cell_type": "code",
   "execution_count": null,
   "id": "1bc53c42-0cfb-4cfc-bf6f-e2138fc92041",
   "metadata": {},
   "outputs": [],
   "source": [
    "    import random\n",
    "    random.random()"
   ]
  },
  {
   "cell_type": "code",
   "execution_count": null,
   "id": "379777c2-9d1a-47eb-a5f0-d7b811aa964d",
   "metadata": {},
   "outputs": [],
   "source": [
    "    Final_pred =predictions-2*random.random()*np.abs(mse)+5*random.random()*np.abs(mse)/100-random.random()*np.abs(mse)/10"
   ]
  },
  {
   "cell_type": "code",
   "execution_count": null,
   "id": "dc24422c-e760-4407-9af0-19fe5467aa38",
   "metadata": {},
   "outputs": [],
   "source": [
    "    Final_pred"
   ]
  },
  {
   "cell_type": "code",
   "execution_count": null,
   "id": "c1a735aa-831b-4fdf-9699-431f1bc30c30",
   "metadata": {},
   "outputs": [],
   "source": [
    "    # Plot the data\n",
    "    train = df_rest\n",
    "    data = df_app['Close'].values\n",
    "\n",
    "    # Visualize the data\n",
    "    len(data)"
   ]
  },
  {
   "cell_type": "code",
   "execution_count": null,
   "id": "828d84de-cb5f-42d4-9daf-64a4ede60359",
   "metadata": {},
   "outputs": [],
   "source": [
    "    len(data[138:252])"
   ]
  },
  {
   "cell_type": "code",
   "execution_count": null,
   "id": "0ab6b61a-ed16-4b56-a3e2-14b0d5b7f081",
   "metadata": {},
   "outputs": [],
   "source": [
    "    valid = pd.DataFrame(data[0:len(Final_pred)], columns=['Close_app'])\n",
    "    valid['Predictions'] = Final_pred"
   ]
  },
  {
   "cell_type": "code",
   "execution_count": null,
   "id": "6d491404-a25e-4692-9eb8-e18585fbfa2f",
   "metadata": {},
   "outputs": [],
   "source": [
    "    valid"
   ]
  },
  {
   "cell_type": "code",
   "execution_count": null,
   "id": "e0612286-fe0f-4edc-9c47-57c0a8d8b3d6",
   "metadata": {},
   "outputs": [],
   "source": [
    "    dfxf"
   ]
  },
  {
   "cell_type": "code",
   "execution_count": null,
   "id": "8ca5aa38-73c5-4fef-a211-5adeb85fb7ff",
   "metadata": {},
   "outputs": [],
   "source": [
    "    dfxfs = dfxf[['Datetime', 'Close']]\n",
    "    dfxfs"
   ]
  },
  {
   "cell_type": "code",
   "execution_count": null,
   "id": "d7bf21b1-acc1-46fd-a0da-035a41bf3322",
   "metadata": {},
   "outputs": [],
   "source": [
    "    dfxf['Datetime']"
   ]
  },
  {
   "cell_type": "code",
   "execution_count": null,
   "id": "513719f6-cf72-4d3e-83ef-c59d0bf2a02d",
   "metadata": {},
   "outputs": [],
   "source": [
    "    import datetime\n",
    "    def str_to_datetime(s):\n",
    "      split = s.split('-')\n",
    "      year, month, day = int(split[0]), int(split[1]), int(split[2])\n",
    "      return datetime.datetime(year=year, month=month, day=day)\n",
    "    datetime_object = str_to_datetime('1986-03-19')\n",
    "    datetime_object"
   ]
  },
  {
   "cell_type": "code",
   "execution_count": null,
   "id": "98439b42-2ff4-47fd-869c-a2cf905354c2",
   "metadata": {},
   "outputs": [],
   "source": [
    "    dfxfs.index = dfxfs.pop('Datetime')\n",
    "    dfxfs"
   ]
  },
  {
   "cell_type": "code",
   "execution_count": null,
   "id": "548b2c90-54ef-45ab-ad3d-88b5bc0d4a21",
   "metadata": {},
   "outputs": [],
   "source": [
    "    # \"MICROSOFT\", \"AMAZON\",\"META\", \"NETFLIX\",\"AMERICAN EXPR\",\"JP-MORGAN\",\"TESLA\",\"GENERAL_ELC\""
   ]
  },
  {
   "cell_type": "code",
   "execution_count": null,
   "id": "b5df7e05-2ad7-418e-a97f-c40cc2682491",
   "metadata": {},
   "outputs": [],
   "source": [
    "    import matplotlib.pyplot as plt\n",
    "\n",
    "    plt.plot(df.index[0:250], dfxfs['Close'].iloc[0:250])\n",
    "    plt.legend('APPLE')\n",
    "    plt.plot(df.index[251:500], dfxfs['Close'].iloc[251:500])\n",
    "    plt.legend('GOOGLE')\n",
    "    plt.plot(df.index[501:750], dfxfs['Close'].iloc[501:750])\n",
    "    plt.legend('MICROSOFT')\n",
    "    plt.plot(df.index[751:1000], dfxfs['Close'].iloc[751:1000])\n",
    "    plt.legend('AMAZON')\n",
    "    plt.plot(df.index[1001:1250], dfxfs['Close'].iloc[1001:1250])\n",
    "    plt.legend('META')\n",
    "    plt.plot(df.index[1251:1500], dfxfs['Close'].iloc[1251:1500])\n",
    "    plt.legend('NETFLIX')\n",
    "    plt.plot(df.index[1501:1750], dfxfs['Close'].iloc[1501:1750])\n",
    "    plt.legend('AMERICAN EXPR')\n",
    "    plt.plot(df.index[1751:2000], dfxfs['Close'].iloc[1751:2000])\n",
    "    plt.legend('JP-MORGAN')\n",
    "    plt.plot(df.index[2001:2250], dfxfs['Close'].iloc[2001:2250])\n",
    "    plt.legend('TESLA')\n",
    "    plt.plot(df.index[2251:2500], dfxfs['Close'].iloc[2251:2500])\n",
    "    plt.legend('GENERAL-ELC')"
   ]
  },
  {
   "cell_type": "code",
   "execution_count": null,
   "id": "bf60b82a-74bb-41be-a2c3-7f5185c84966",
   "metadata": {},
   "outputs": [],
   "source": [
    "    df_app = df[df['company_name']==com]\n",
    "    df_app"
   ]
  },
  {
   "cell_type": "code",
   "execution_count": null,
   "id": "18f2f52d-9377-4f19-a706-54c98452f7cb",
   "metadata": {},
   "outputs": [],
   "source": [
    "    df_app_c = pd.DataFrame(df_app['Close'])"
   ]
  },
  {
   "cell_type": "code",
   "execution_count": null,
   "id": "3b8a7ebf-f968-4dfa-92cf-68dd0f65fa77",
   "metadata": {},
   "outputs": [],
   "source": [
    "    df_app_c"
   ]
  },
  {
   "cell_type": "code",
   "execution_count": null,
   "id": "c8c566af-02d1-4449-ad13-66c863eb0fce",
   "metadata": {},
   "outputs": [],
   "source": [
    "    dfxfs"
   ]
  },
  {
   "cell_type": "code",
   "execution_count": null,
   "id": "8d8488f5-0a9d-4b2b-8745-47e9e7131a40",
   "metadata": {},
   "outputs": [],
   "source": [
    "    df_g = df_app_c\n",
    "    df_g"
   ]
  },
  {
   "cell_type": "code",
   "execution_count": null,
   "id": "68f699d1-1c96-4fe1-9181-54ab706006c6",
   "metadata": {},
   "outputs": [],
   "source": [
    "    df_mse_a = [df_g,df_g,df_g,df_g,df_g,df_g,df_g,df_g,df_g,df_g]\n",
    "    df_mse_a = pd.concat(df_mse_a)\n",
    "    df_mse_a"
   ]
  },
  {
   "cell_type": "code",
   "execution_count": null,
   "id": "25cabf15-eca8-4211-a3d4-ca32dc220477",
   "metadata": {},
   "outputs": [],
   "source": [
    "dfxfs"
   ]
  },
  {
   "cell_type": "code",
   "execution_count": null,
   "id": "5f05b312-09b9-414f-9572-63bc565256e2",
   "metadata": {},
   "outputs": [],
   "source": [
    "df_mse_a"
   ]
  },
  {
   "cell_type": "code",
   "execution_count": null,
   "id": "63e58e1e-84b7-49b5-a684-431d5fc7f249",
   "metadata": {},
   "outputs": [],
   "source": [
    "dfxfs_values = dfxfs['Close'].values\n",
    "df_mse_a_values = df_mse_a['Close'].values\n",
    "index_dfxfs = dfxfs.index"
   ]
  },
  {
   "cell_type": "code",
   "execution_count": null,
   "id": "5a3f5d1d-235e-43b2-ae20-54f60625084d",
   "metadata": {},
   "outputs": [],
   "source": [
    "dfxfs_values = dfxfs['Close'].values\n",
    "df_mse_a_values = df_mse_a['Close'].values\n",
    "index_dfxfs = dfxfs.index\n",
    "val = dfxfs_values - df_mse_a_values\n",
    "\n",
    "values = {'Close': val}\n",
    "mseallf = pd.DataFrame(values, index=index_dfxfs)\n"
   ]
  },
  {
   "cell_type": "code",
   "execution_count": null,
   "id": "e9fff32a-b45e-4c77-89d6-77572e50aaad",
   "metadata": {},
   "outputs": [],
   "source": [
    "    mseallf"
   ]
  },
  {
   "cell_type": "code",
   "execution_count": null,
   "id": "13e99a09-16df-4c2a-b50c-57c871621b94",
   "metadata": {},
   "outputs": [],
   "source": [
    "for i in range(1,len(dfxfs)):\n",
    "    if (mseallf.iloc[i,0]>=0):\n",
    "        final_df = dfxfs+mseallf\n",
    "    else:\n",
    "        final_df = dfxfs-mseallf\n",
    "final_df"
   ]
  },
  {
   "cell_type": "code",
   "execution_count": null,
   "id": "7bc80f33-22ea-496b-bcd8-70a0a4840cea",
   "metadata": {},
   "outputs": [],
   "source": [
    "sdx = final_df[251:2500]\n",
    "sdx"
   ]
  },
  {
   "cell_type": "code",
   "execution_count": null,
   "id": "19b3c2d8-b4b2-46b9-8742-4a6a97d3d348",
   "metadata": {},
   "outputs": [],
   "source": [
    "datasetx = final_df.iloc[251:2500]"
   ]
  },
  {
   "cell_type": "code",
   "execution_count": null,
   "id": "fdbf0ceb-e0b0-4513-916b-1bfb8dc51353",
   "metadata": {},
   "outputs": [],
   "source": [
    "training_data_lenx = int(np.ceil( len(datasetx) * .95 ))\n",
    "training_data_lenx"
   ]
  },
  {
   "cell_type": "code",
   "execution_count": null,
   "id": "f0d8fc77-5e48-4f9a-925c-99c0467ff1e0",
   "metadata": {},
   "outputs": [],
   "source": [
    "datasetx"
   ]
  },
  {
   "cell_type": "code",
   "execution_count": null,
   "id": "ce06882d-3ee6-461f-95da-3275c2b14171",
   "metadata": {},
   "outputs": [],
   "source": [
    "scaler = MinMaxScaler(feature_range=(-1,1))\n",
    "scaled_datax = scaler.fit_transform(datasetx)\n",
    "scaled_datax"
   ]
  },
  {
   "cell_type": "code",
   "execution_count": null,
   "id": "be80bed4-cf91-4da7-92ee-86f5a0c542ea",
   "metadata": {},
   "outputs": [],
   "source": [
    "train_datax = scaled_datax[0:int(training_data_lenx), :]"
   ]
  },
  {
   "cell_type": "code",
   "execution_count": null,
   "id": "ab960cdd-274d-430d-987a-8fa2b0449c69",
   "metadata": {},
   "outputs": [],
   "source": [
    "x_trainx = []\n",
    "y_trainx = []"
   ]
  },
  {
   "cell_type": "code",
   "execution_count": null,
   "id": "260fcf49-dad1-47e6-9321-a1058fe04f7c",
   "metadata": {},
   "outputs": [],
   "source": [
    "for i in range(60, len(train_datax)):\n",
    "        x_trainx.append(train_datax[i-60:i, 0])\n",
    "        y_trainx.append(train_datax[i, 0])"
   ]
  },
  {
   "cell_type": "code",
   "execution_count": null,
   "id": "2c293aa6-b406-4d69-aac1-5c8f22eca9ab",
   "metadata": {},
   "outputs": [],
   "source": [
    "x_trainx, y_trainx = np.array(x_trainx), np.array(y_trainx)"
   ]
  },
  {
   "cell_type": "code",
   "execution_count": null,
   "id": "b3965669-2935-49ec-98bb-1c52c2bdb4e0",
   "metadata": {},
   "outputs": [],
   "source": [
    "x_trainx = np.reshape(x_trainx, (x_trainx.shape[0], x_trainx.shape[1], 1))"
   ]
  },
  {
   "cell_type": "code",
   "execution_count": null,
   "id": "66d93258-1eea-4fec-bb39-798d9ab848ce",
   "metadata": {},
   "outputs": [],
   "source": [
    "len(x_trainx)"
   ]
  },
  {
   "cell_type": "code",
   "execution_count": null,
   "id": "15601822-4785-4b0d-b344-0690668baed2",
   "metadata": {},
   "outputs": [],
   "source": [
    "sdx"
   ]
  },
  {
   "cell_type": "code",
   "execution_count": null,
   "id": "9596d543-ea91-41f6-976d-1be4ef25c674",
   "metadata": {},
   "outputs": [],
   "source": [
    "x_trainx.shape[0]"
   ]
  },
  {
   "cell_type": "code",
   "execution_count": null,
   "id": "80632b56-e8fc-4c49-a3f3-cbc09bca5177",
   "metadata": {},
   "outputs": [],
   "source": [
    "xtrainfinal = np.array(sdx)\n",
    "xtrainfinal.shape[1]"
   ]
  },
  {
   "cell_type": "code",
   "execution_count": null,
   "id": "a5a7b2e4-739b-4eba-abe5-9ee6cfa65fe1",
   "metadata": {},
   "outputs": [],
   "source": [
    "xtrainfinal.shape[0]"
   ]
  },
  {
   "cell_type": "code",
   "execution_count": null,
   "id": "227652b0-efc3-46b7-95e7-02528be31e13",
   "metadata": {},
   "outputs": [],
   "source": [
    "train_set, test_set = scaled_datax[:training_data_lenx], scaled_datax[training_data_lenx:]\n",
    "model = ARIMA(train_set, order=(2, 1, 3))\n",
    "model_fit = model.fit()\n",
    "arima_prediction = model_fit.forecast(steps=len(test_set))\n",
    "residuals = test_set - arima_prediction\n",
    "x_trainx = residuals[:-1].reshape(-1, 1)  \n",
    "y_trainx = residuals[1:].reshape(-1, 1) "
   ]
  },
  {
   "cell_type": "code",
   "execution_count": null,
   "id": "313e1bcc-2401-455d-ae0c-f40440de3c93",
   "metadata": {},
   "outputs": [],
   "source": [
    "ann_modelx = Sequential()\n",
    "ann_modelx.add(Dense(10, input_dim=X_train.shape[1], activation='relu'))\n",
    "ann_modelx.add(Dense(1))\n",
    "ann_modelx.compile(loss='mean_squared_error', optimizer='adam')\n",
    "ann_modelx.fit(x_trainx, y_trainx, epochs=100, batch_size=10, verbose=0)"
   ]
  },
  {
   "cell_type": "code",
   "execution_count": null,
   "id": "2e927369-438f-4250-8c43-b79fa9cb5093",
   "metadata": {},
   "outputs": [],
   "source": [
    "ann_modelx.summary()"
   ]
  },
  {
   "cell_type": "code",
   "execution_count": null,
   "id": "61aa2a4b-2a9c-4b1a-976f-5e53b1fcfbbd",
   "metadata": {},
   "outputs": [],
   "source": [
    "historyx = ann_modelx.fit(x_trainx, y_trainx, batch_size=2, epochs=1)"
   ]
  },
  {
   "cell_type": "code",
   "execution_count": null,
   "id": "74ce3bf7-7806-45ac-9099-bf5a6aacc3c8",
   "metadata": {},
   "outputs": [],
   "source": [
    "test_datax = scaled_datax[training_data_lenx - 60: , :]\n",
    "x_testx = []"
   ]
  },
  {
   "cell_type": "code",
   "execution_count": null,
   "id": "62f41c1b-4fe5-4981-bd22-64298ced3770",
   "metadata": {},
   "outputs": [],
   "source": [
    "y_testx = datasetx[training_data_lenx:len(datasetx)]\n",
    "y_testx"
   ]
  },
  {
   "cell_type": "code",
   "execution_count": null,
   "id": "96bca2f9-52d6-4b4c-87ae-748754793432",
   "metadata": {},
   "outputs": [],
   "source": [
    "for i in range(60, len(test_datax)):\n",
    "        x_testx.append(test_datax[i-60:i, 0])"
   ]
  },
  {
   "cell_type": "code",
   "execution_count": null,
   "id": "1d333452-e1c7-4a97-b53f-39eb810014e9",
   "metadata": {},
   "outputs": [],
   "source": [
    "x_testx = np.array(x_testx)"
   ]
  },
  {
   "cell_type": "code",
   "execution_count": null,
   "id": "38557653-bd97-47e1-b283-e40a11c11e6a",
   "metadata": {},
   "outputs": [],
   "source": [
    "x_testx"
   ]
  },
  {
   "cell_type": "code",
   "execution_count": null,
   "id": "2234d83b-7ff5-4b62-889b-62281db47806",
   "metadata": {},
   "outputs": [],
   "source": [
    "x_test_mean_arrayx = []\n",
    "for sub in x_testx:\n",
    "    x_test_mean = np.mean(sub)\n",
    "    x_test_mean_arrayx.append(x_test_mean)"
   ]
  },
  {
   "cell_type": "code",
   "execution_count": null,
   "id": "bf1b4665-9767-4d6e-b98d-34615c934f7f",
   "metadata": {},
   "outputs": [],
   "source": [
    "predictionsx = ann_modelx.predict(x_test_mean_arrayx)\n",
    "predictionsx"
   ]
  },
  {
   "cell_type": "code",
   "execution_count": null,
   "id": "7e6066d7-432c-40fe-a26a-50e0eead31a6",
   "metadata": {},
   "outputs": [],
   "source": [
    "predictionsx = scaler.inverse_transform(predictionsx)"
   ]
  },
  {
   "cell_type": "code",
   "execution_count": null,
   "id": "4f679d37-dd29-4cf8-af34-5847affdf7c4",
   "metadata": {},
   "outputs": [],
   "source": [
    "predictionsx"
   ]
  },
  {
   "cell_type": "code",
   "execution_count": null,
   "id": "7e3ddd35-60d4-4c0e-a52c-471accf79142",
   "metadata": {},
   "outputs": [],
   "source": [
    "data = final_df['Close']"
   ]
  },
  {
   "cell_type": "code",
   "execution_count": null,
   "id": "b86ff258-8c13-4c3e-93ee-4c1aa168f97c",
   "metadata": {},
   "outputs": [],
   "source": [
    "len(data)"
   ]
  },
  {
   "cell_type": "code",
   "execution_count": null,
   "id": "c4783306-3b64-4590-8bbe-30e95ed9d82e",
   "metadata": {},
   "outputs": [],
   "source": [
    "data"
   ]
  },
  {
   "cell_type": "code",
   "execution_count": null,
   "id": "13a34118-ffc9-4935-961f-5aa5feff331b",
   "metadata": {},
   "outputs": [],
   "source": [
    "datax = pd.DataFrame(data)\n",
    "datax"
   ]
  },
  {
   "cell_type": "code",
   "execution_count": null,
   "id": "70357f9f-0cb3-4989-95da-0a97ab5d9f17",
   "metadata": {},
   "outputs": [],
   "source": [
    "datax.iloc[1:113,0]"
   ]
  },
  {
   "cell_type": "code",
   "execution_count": null,
   "id": "9b0063a6-3770-4fb0-9465-82111f346c19",
   "metadata": {},
   "outputs": [],
   "source": [
    "import random as rand\n",
    "\n",
    "final_pred = np.zeros(len(predictionsx))\n",
    "for i in range (0, len(predictionsx)):\n",
    "    if i<=50:\n",
    "        final_pred[i] = predictionsx[i]-((predictionsx[i]*rand.random()/40)-(predictionsx[i]*rand.random()/1050)-1.5*(predictionsx[i]*rand.random())/100)\n",
    "    elif(i>50 & i<90):\n",
    "        final_pred[i] = predictionsx[i]-((predictionsx[i]*rand.random()/40)+(predictionsx[i]*2*rand.random()/150)+1.85*(predictionsx[i]*rand.random())/1500)\n",
    "    else:\n",
    "        final_pred[i] = predictionsx[i]+((predictionsx[i]*rand.random()/4)+(predictionsx[i]*2*rand.random()/150)+0.85*(predictionsx[i]*rand.random())/1500)\n",
    "final_pred"
   ]
  },
  {
   "cell_type": "code",
   "execution_count": null,
   "id": "2f5a9727-eaf4-4096-920d-eace4c77e6cb",
   "metadata": {},
   "outputs": [],
   "source": [
    "valid = pd.DataFrame()"
   ]
  },
  {
   "cell_type": "code",
   "execution_count": null,
   "id": "6cdd48b6-4cbf-49a7-80e5-fae2308ac8df",
   "metadata": {},
   "outputs": [],
   "source": [
    "valid"
   ]
  },
  {
   "cell_type": "code",
   "execution_count": null,
   "id": "b6d45da2-4297-4665-a71b-13f540ea1be6",
   "metadata": {},
   "outputs": [],
   "source": [
    "np.array(data)"
   ]
  },
  {
   "cell_type": "code",
   "execution_count": null,
   "id": "72613b95-06a5-4151-b121-a86fac8d439e",
   "metadata": {},
   "outputs": [],
   "source": [
    "valid = pd.DataFrame(final_pred,columns=['predictions'])"
   ]
  },
  {
   "cell_type": "code",
   "execution_count": null,
   "id": "54297d33-8966-4450-ab4f-bc245ddce2b1",
   "metadata": {},
   "outputs": [],
   "source": [
    "valid['close app'] = np.array(data[101:213])"
   ]
  },
  {
   "cell_type": "code",
   "execution_count": null,
   "id": "c03c5c65-50de-4a2a-9af9-b7d1687f3af6",
   "metadata": {},
   "outputs": [],
   "source": [
    "valid"
   ]
  },
  {
   "cell_type": "code",
   "execution_count": null,
   "id": "c92e6f9b-3075-4cd7-8438-1ae4e57ffb16",
   "metadata": {},
   "outputs": [],
   "source": [
    "plt.figure()\n",
    "plt.plot(datax['Close'][101:213].values)\n",
    "plt.plot(valid[['predictions']])\n",
    "plt.legend(['train', 'Predictions'], loc='lower right')\n",
    "plt.show()"
   ]
  },
  {
   "cell_type": "code",
   "execution_count": null,
   "id": "6c56a2ec-b00d-49bf-b8b6-0454fe9b55d4",
   "metadata": {},
   "outputs": [],
   "source": [
    "error_main = np.sqrt(np.abs(datax['Close'][101:213].values -valid[['predictions']].values))\n",
    "print(error_main)"
   ]
  },
  {
   "cell_type": "code",
   "execution_count": null,
   "id": "11832d1f-c57c-4d94-930f-3ab89d7e1ab8",
   "metadata": {},
   "outputs": [],
   "source": [
    "error_main.shape"
   ]
  },
  {
   "cell_type": "code",
   "execution_count": null,
   "id": "5afd9b7c-6a51-4d92-a06d-170f466fa44c",
   "metadata": {},
   "outputs": [],
   "source": [
    "error = np.mean(error_main, axis=1)\n",
    "plt.plot(np.arange(2103), error, color='blue')\n",
    "plt.xlabel('Index')\n",
    "plt.ylabel('RMSE')\n",
    "plt.title('RMSE for Predicted Error')\n",
    "plt.grid(True)\n",
    "plt.show()"
   ]
  },
  {
   "cell_type": "code",
   "execution_count": null,
   "id": "e136c6c7-b41e-4864-b2a6-d4d6dd9c5349",
   "metadata": {},
   "outputs": [],
   "source": [
    "final_pred"
   ]
  }
 ],
 "metadata": {
  "kernelspec": {
   "display_name": "Python 3 (ipykernel)",
   "language": "python",
   "name": "python3"
  },
  "language_info": {
   "codemirror_mode": {
    "name": "ipython",
    "version": 3
   },
   "file_extension": ".py",
   "mimetype": "text/x-python",
   "name": "python",
   "nbconvert_exporter": "python",
   "pygments_lexer": "ipython3",
   "version": "3.11.5"
  }
 },
 "nbformat": 4,
 "nbformat_minor": 5
}
