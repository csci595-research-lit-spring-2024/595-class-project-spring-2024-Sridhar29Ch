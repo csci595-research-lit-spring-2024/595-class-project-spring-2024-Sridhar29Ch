{
 "cells": [
  {
   "cell_type": "code",
   "execution_count": 1,
   "id": "89468748-8128-4273-947f-5411e1cf2424",
   "metadata": {
    "editable": true,
    "slideshow": {
     "slide_type": ""
    },
    "tags": []
   },
   "outputs": [
    {
     "name": "stdout",
     "output_type": "stream",
     "text": [
      "Intel MKL WARNING: Support of Intel(R) Streaming SIMD Extensions 4.2 (Intel(R) SSE4.2) enabled only processors has been deprecated. Intel oneAPI Math Kernel Library 2025.0 will require Intel(R) Advanced Vector Extensions (Intel(R) AVX) instructions.\n",
      "Intel MKL WARNING: Support of Intel(R) Streaming SIMD Extensions 4.2 (Intel(R) SSE4.2) enabled only processors has been deprecated. Intel oneAPI Math Kernel Library 2025.0 will require Intel(R) Advanced Vector Extensions (Intel(R) AVX) instructions.\n"
     ]
    },
    {
     "name": "stderr",
     "output_type": "stream",
     "text": [
      "2024-04-18 18:50:04.471271: I tensorflow/core/platform/cpu_feature_guard.cc:182] This TensorFlow binary is optimized to use available CPU instructions in performance-critical operations.\n",
      "To enable the following instructions: SSE4.1 SSE4.2, in other operations, rebuild TensorFlow with the appropriate compiler flags.\n"
     ]
    }
   ],
   "source": [
    "import numpy as np\n",
    "import matplotlib.pyplot as plt\n",
    "import logging\n",
    "import time\n",
    "import numpy as np\n",
    "import matplotlib.pyplot as plt\n",
    "import sys\n",
    "import pandas as pd\n",
    "import numpy as np\n",
    "import matplotlib.pyplot as plt\n",
    "import seaborn as sns\n",
    "from pandas_datareader.data import DataReader\n",
    "import yfinance as yf\n",
    "import tensorflow as tf\n",
    "from pandas_datareader import data as pdr\n",
    "from datetime import datetime\n",
    "from sklearn.preprocessing import MinMaxScaler\n",
    "from sklearn.metrics import mean_squared_error\n",
    "from statsmodels.tsa.arima.model import ARIMA\n",
    "from tensorflow.keras.models import Sequential\n",
    "from tensorflow.keras.layers import Dense"
   ]
  },
  {
   "cell_type": "code",
   "execution_count": 2,
   "id": "262c4dd2-7fa1-4b12-bede-9057538e1aa6",
   "metadata": {},
   "outputs": [],
   "source": [
    "#\"APPLE\", \"GOOGLE\", \"MICROSOFT\", \"AMAZON\",\"META\", \"NETFLIX\",\"AMERICAN EXPR\",\"JP-MORGAN\",\"TESLA\",\"GENERAL_ELC\"\n",
    "com='GENERAL_ELC'\n",
    "yf.pdr_override()"
   ]
  },
  {
   "cell_type": "code",
   "execution_count": 3,
   "id": "de8b558f-9906-4a7f-b1af-07a250262c9e",
   "metadata": {},
   "outputs": [],
   "source": [
    "tech_list = ['AAPL', 'GOOG', 'MSFT', 'AMZN',\"META\",\"NFLX\",\"AMX\",\"JPM\",\"TSLA\",\"GE\"]"
   ]
  },
  {
   "cell_type": "code",
   "execution_count": 4,
   "id": "83765167-d15a-48c9-82f8-46095b0fff8f",
   "metadata": {},
   "outputs": [],
   "source": [
    "end = datetime.now()\n",
    "start = datetime(end.year - 1, end.month, end.day)"
   ]
  },
  {
   "cell_type": "code",
   "execution_count": 5,
   "id": "5ae6b099-b06b-47af-a091-5dab228e5902",
   "metadata": {},
   "outputs": [
    {
     "name": "stderr",
     "output_type": "stream",
     "text": [
      "[*********************100%%**********************]  1 of 1 completed\n",
      "[*********************100%%**********************]  1 of 1 completed\n",
      "[*********************100%%**********************]  1 of 1 completed\n",
      "[*********************100%%**********************]  1 of 1 completed\n",
      "[*********************100%%**********************]  1 of 1 completed\n",
      "[*********************100%%**********************]  1 of 1 completed\n",
      "[*********************100%%**********************]  1 of 1 completed\n",
      "[*********************100%%**********************]  1 of 1 completed\n",
      "[*********************100%%**********************]  1 of 1 completed\n",
      "[*********************100%%**********************]  1 of 1 completed\n",
      "[*********************100%%**********************]  1 of 1 completed\n",
      "[*********************100%%**********************]  1 of 1 completed\n",
      "[*********************100%%**********************]  1 of 1 completed\n",
      "[*********************100%%**********************]  1 of 1 completed\n",
      "[*********************100%%**********************]  1 of 1 completed\n",
      "[*********************100%%**********************]  1 of 1 completed\n",
      "[*********************100%%**********************]  1 of 1 completed\n",
      "[*********************100%%**********************]  1 of 1 completed\n",
      "[*********************100%%**********************]  1 of 1 completed\n",
      "[*********************100%%**********************]  1 of 1 completed\n"
     ]
    }
   ],
   "source": [
    "for stock in tech_list:\n",
    "        globals()[stock] = yf.download(stock, start, end)\n",
    "        dfdc = yf.download(stock, start, end)\n",
    "        dfdc.to_csv('stockdc.csv')"
   ]
  },
  {
   "cell_type": "code",
   "execution_count": 6,
   "id": "ecf1ba26-5201-4659-9098-841d8b5faaa1",
   "metadata": {},
   "outputs": [],
   "source": [
    "company_list = [AAPL, GOOG, MSFT, AMZN,META,NFLX,AMX,JPM,TSLA,GE]\n",
    "company_name = [\"APPLE\", \"GOOGLE\", \"MICROSOFT\", \"AMAZON\",\"META\", \"NETFLIX\",\"AMERICAN EXPR\",\"JP-MORGAN\",\"TESLA\",\"GENERAL_ELC\"]"
   ]
  },
  {
   "cell_type": "code",
   "execution_count": 7,
   "id": "dd80dfa8-9e87-4702-bc46-514194cdd0ca",
   "metadata": {},
   "outputs": [],
   "source": [
    "for company, com_name in zip(company_list, company_name):\n",
    "        company[\"company_name\"] = com_name"
   ]
  },
  {
   "cell_type": "code",
   "execution_count": 8,
   "id": "57b66a2d-7ffb-4b33-b16d-b40ec1d9baa8",
   "metadata": {},
   "outputs": [
    {
     "data": {
      "text/html": [
       "<div>\n",
       "<style scoped>\n",
       "    .dataframe tbody tr th:only-of-type {\n",
       "        vertical-align: middle;\n",
       "    }\n",
       "\n",
       "    .dataframe tbody tr th {\n",
       "        vertical-align: top;\n",
       "    }\n",
       "\n",
       "    .dataframe thead th {\n",
       "        text-align: right;\n",
       "    }\n",
       "</style>\n",
       "<table border=\"1\" class=\"dataframe\">\n",
       "  <thead>\n",
       "    <tr style=\"text-align: right;\">\n",
       "      <th></th>\n",
       "      <th>Open</th>\n",
       "      <th>High</th>\n",
       "      <th>Low</th>\n",
       "      <th>Close</th>\n",
       "      <th>Adj Close</th>\n",
       "      <th>Volume</th>\n",
       "      <th>company_name</th>\n",
       "    </tr>\n",
       "    <tr>\n",
       "      <th>Date</th>\n",
       "      <th></th>\n",
       "      <th></th>\n",
       "      <th></th>\n",
       "      <th></th>\n",
       "      <th></th>\n",
       "      <th></th>\n",
       "      <th></th>\n",
       "    </tr>\n",
       "  </thead>\n",
       "  <tbody>\n",
       "    <tr>\n",
       "      <th>2023-04-18</th>\n",
       "      <td>166.100006</td>\n",
       "      <td>167.410004</td>\n",
       "      <td>165.649994</td>\n",
       "      <td>166.470001</td>\n",
       "      <td>165.586151</td>\n",
       "      <td>49923000</td>\n",
       "      <td>APPLE</td>\n",
       "    </tr>\n",
       "    <tr>\n",
       "      <th>2023-04-19</th>\n",
       "      <td>165.800003</td>\n",
       "      <td>168.160004</td>\n",
       "      <td>165.539993</td>\n",
       "      <td>167.630005</td>\n",
       "      <td>166.740005</td>\n",
       "      <td>47720200</td>\n",
       "      <td>APPLE</td>\n",
       "    </tr>\n",
       "    <tr>\n",
       "      <th>2023-04-20</th>\n",
       "      <td>166.089996</td>\n",
       "      <td>167.869995</td>\n",
       "      <td>165.559998</td>\n",
       "      <td>166.649994</td>\n",
       "      <td>165.765198</td>\n",
       "      <td>52456400</td>\n",
       "      <td>APPLE</td>\n",
       "    </tr>\n",
       "    <tr>\n",
       "      <th>2023-04-21</th>\n",
       "      <td>165.050003</td>\n",
       "      <td>166.449997</td>\n",
       "      <td>164.490005</td>\n",
       "      <td>165.020004</td>\n",
       "      <td>164.143860</td>\n",
       "      <td>58337300</td>\n",
       "      <td>APPLE</td>\n",
       "    </tr>\n",
       "    <tr>\n",
       "      <th>2023-04-24</th>\n",
       "      <td>165.000000</td>\n",
       "      <td>165.600006</td>\n",
       "      <td>163.889999</td>\n",
       "      <td>165.330002</td>\n",
       "      <td>164.452194</td>\n",
       "      <td>41949600</td>\n",
       "      <td>APPLE</td>\n",
       "    </tr>\n",
       "    <tr>\n",
       "      <th>...</th>\n",
       "      <td>...</td>\n",
       "      <td>...</td>\n",
       "      <td>...</td>\n",
       "      <td>...</td>\n",
       "      <td>...</td>\n",
       "      <td>...</td>\n",
       "      <td>...</td>\n",
       "    </tr>\n",
       "    <tr>\n",
       "      <th>2024-04-12</th>\n",
       "      <td>155.899994</td>\n",
       "      <td>156.979996</td>\n",
       "      <td>153.029999</td>\n",
       "      <td>154.630005</td>\n",
       "      <td>154.630005</td>\n",
       "      <td>6846900</td>\n",
       "      <td>GENERAL_ELC</td>\n",
       "    </tr>\n",
       "    <tr>\n",
       "      <th>2024-04-15</th>\n",
       "      <td>157.199997</td>\n",
       "      <td>158.690002</td>\n",
       "      <td>152.690002</td>\n",
       "      <td>153.699997</td>\n",
       "      <td>153.699997</td>\n",
       "      <td>6423700</td>\n",
       "      <td>GENERAL_ELC</td>\n",
       "    </tr>\n",
       "    <tr>\n",
       "      <th>2024-04-16</th>\n",
       "      <td>152.699997</td>\n",
       "      <td>157.020004</td>\n",
       "      <td>152.000000</td>\n",
       "      <td>156.759995</td>\n",
       "      <td>156.759995</td>\n",
       "      <td>6187200</td>\n",
       "      <td>GENERAL_ELC</td>\n",
       "    </tr>\n",
       "    <tr>\n",
       "      <th>2024-04-17</th>\n",
       "      <td>158.000000</td>\n",
       "      <td>158.679993</td>\n",
       "      <td>153.630005</td>\n",
       "      <td>155.669998</td>\n",
       "      <td>155.669998</td>\n",
       "      <td>6519900</td>\n",
       "      <td>GENERAL_ELC</td>\n",
       "    </tr>\n",
       "    <tr>\n",
       "      <th>2024-04-18</th>\n",
       "      <td>156.679993</td>\n",
       "      <td>157.990005</td>\n",
       "      <td>152.880005</td>\n",
       "      <td>152.940002</td>\n",
       "      <td>152.940002</td>\n",
       "      <td>5068266</td>\n",
       "      <td>GENERAL_ELC</td>\n",
       "    </tr>\n",
       "  </tbody>\n",
       "</table>\n",
       "<p>2530 rows × 7 columns</p>\n",
       "</div>"
      ],
      "text/plain": [
       "                  Open        High         Low       Close   Adj Close  \\\n",
       "Date                                                                     \n",
       "2023-04-18  166.100006  167.410004  165.649994  166.470001  165.586151   \n",
       "2023-04-19  165.800003  168.160004  165.539993  167.630005  166.740005   \n",
       "2023-04-20  166.089996  167.869995  165.559998  166.649994  165.765198   \n",
       "2023-04-21  165.050003  166.449997  164.490005  165.020004  164.143860   \n",
       "2023-04-24  165.000000  165.600006  163.889999  165.330002  164.452194   \n",
       "...                ...         ...         ...         ...         ...   \n",
       "2024-04-12  155.899994  156.979996  153.029999  154.630005  154.630005   \n",
       "2024-04-15  157.199997  158.690002  152.690002  153.699997  153.699997   \n",
       "2024-04-16  152.699997  157.020004  152.000000  156.759995  156.759995   \n",
       "2024-04-17  158.000000  158.679993  153.630005  155.669998  155.669998   \n",
       "2024-04-18  156.679993  157.990005  152.880005  152.940002  152.940002   \n",
       "\n",
       "              Volume company_name  \n",
       "Date                               \n",
       "2023-04-18  49923000        APPLE  \n",
       "2023-04-19  47720200        APPLE  \n",
       "2023-04-20  52456400        APPLE  \n",
       "2023-04-21  58337300        APPLE  \n",
       "2023-04-24  41949600        APPLE  \n",
       "...              ...          ...  \n",
       "2024-04-12   6846900  GENERAL_ELC  \n",
       "2024-04-15   6423700  GENERAL_ELC  \n",
       "2024-04-16   6187200  GENERAL_ELC  \n",
       "2024-04-17   6519900  GENERAL_ELC  \n",
       "2024-04-18   5068266  GENERAL_ELC  \n",
       "\n",
       "[2530 rows x 7 columns]"
      ]
     },
     "execution_count": 8,
     "metadata": {},
     "output_type": "execute_result"
    }
   ],
   "source": [
    "df = pd.concat(company_list, axis=0)\n",
    "df"
   ]
  },
  {
   "cell_type": "code",
   "execution_count": 9,
   "id": "1b6978f8-ee1d-4e87-acf2-f2c0e956b570",
   "metadata": {},
   "outputs": [],
   "source": [
    "df.to_csv('stock.csv')"
   ]
  },
  {
   "cell_type": "code",
   "execution_count": null,
   "id": "eb649576-772a-4403-9aad-a63da15c2b07",
   "metadata": {},
   "outputs": [],
   "source": [
    "dfxf = pd.read_csv(\"stock.csv\")\n",
    "dfxf"
   ]
  },
  {
   "cell_type": "code",
   "execution_count": null,
   "id": "e7eb5dd8-1056-4a4c-9379-55cf171dd6f2",
   "metadata": {},
   "outputs": [],
   "source": [
    "#skipping one company here initially hardcoding will send dynamically later\n",
    "com='META'\n",
    "df_rest = df[df['company_name']!=com]\n",
    "df_rest"
   ]
  },
  {
   "cell_type": "code",
   "execution_count": null,
   "id": "f082b5b8-67f5-4d0c-b016-b015d42ceeef",
   "metadata": {},
   "outputs": [],
   "source": [
    "X= df_rest.drop(\"company_name\", axis='columns')"
   ]
  },
  {
   "cell_type": "code",
   "execution_count": null,
   "id": "c699f454-e557-4378-bc15-922c7bb3b08d",
   "metadata": {},
   "outputs": [],
   "source": [
    "dataset = X.iloc[:,3:4]\n",
    "dataset"
   ]
  },
  {
   "cell_type": "code",
   "execution_count": null,
   "id": "3fc2bd5b-4f96-4b4b-b5bc-ab18009c9ae3",
   "metadata": {},
   "outputs": [],
   "source": [
    "training_data_len = int(np.ceil( len(dataset) * .95 ))\n",
    "training_data_len"
   ]
  },
  {
   "cell_type": "code",
   "execution_count": null,
   "id": "faee2357-d457-489b-ac02-59f6015e8d41",
   "metadata": {},
   "outputs": [],
   "source": [
    "scaler = MinMaxScaler(feature_range=(-1,1))\n",
    "scaled_data = scaler.fit_transform(dataset)\n",
    "scaled_data"
   ]
  },
  {
   "cell_type": "code",
   "execution_count": null,
   "id": "6df645d9-9470-45fb-a1ce-702adb9c909c",
   "metadata": {},
   "outputs": [],
   "source": [
    "train_data = scaled_data[0:int(training_data_len), :]"
   ]
  },
  {
   "cell_type": "code",
   "execution_count": null,
   "id": "ccdf2276-1e80-4e50-8698-80bebeec69ff",
   "metadata": {},
   "outputs": [],
   "source": [
    "x_train = []\n",
    "y_train = []"
   ]
  },
  {
   "cell_type": "code",
   "execution_count": null,
   "id": "98da809f-14f2-4300-bc33-f711ef1fee4d",
   "metadata": {},
   "outputs": [],
   "source": [
    "for i in range(60, len(train_data)):\n",
    "        x_train.append(train_data[i-60:i, 0])\n",
    "        y_train.append(train_data[i, 0])"
   ]
  },
  {
   "cell_type": "code",
   "execution_count": null,
   "id": "637e2074-d431-4dc7-a7d1-f4b53aa36237",
   "metadata": {},
   "outputs": [],
   "source": [
    "x_train, y_train = np.array(x_train), np.array(y_train)\n",
    "x_train = np.reshape(x_train, (x_train.shape[0], x_train.shape[1], 1))"
   ]
  },
  {
   "cell_type": "code",
   "execution_count": null,
   "id": "7d27a65a-463e-4902-9aa6-26c6418afe80",
   "metadata": {},
   "outputs": [],
   "source": [
    "x_train.shape[1]"
   ]
  },
  {
   "cell_type": "code",
   "execution_count": null,
   "id": "f26783d8-e0b2-400c-adb7-6cf4afc83234",
   "metadata": {},
   "outputs": [],
   "source": [
    "y_train.shape[0]"
   ]
  },
  {
   "cell_type": "code",
   "execution_count": null,
   "id": "1fa19cdb-3422-44a8-b65c-e247a8416a2d",
   "metadata": {},
   "outputs": [],
   "source": [
    "x_train.shape"
   ]
  },
  {
   "cell_type": "code",
   "execution_count": null,
   "id": "e985dfd4-6275-4994-9ee1-0ea94ce798ca",
   "metadata": {},
   "outputs": [],
   "source": [
    "com='META'\n",
    "df_app = df[df['company_name']==com]\n",
    "df_app"
   ]
  },
  {
   "cell_type": "code",
   "execution_count": null,
   "id": "062dfb72-64d7-478d-a1c1-b0a5b8658ccd",
   "metadata": {},
   "outputs": [],
   "source": [
    "class Encoder(tf.keras.layers.Layer):\n",
    "      def __init__(self, intermediate_dim):\n",
    "        super(Encoder, self).__init__()\n",
    "        self.hidden_layer = tf.keras.layers.Dense(\n",
    "          units=intermediate_dim,\n",
    "          activation=tf.nn.relu,\n",
    "          kernel_initializer='he_uniform'\n",
    "        )\n",
    "        self.output_layer = tf.keras.layers.Dense(\n",
    "          units=intermediate_dim,\n",
    "          activation=tf.nn.sigmoid\n",
    "        )\n",
    "        \n",
    "      def call(self, input_features):\n",
    "        activation = self.hidden_layer(input_features)\n",
    "        return self.output_layer(activation)"
   ]
  },
  {
   "cell_type": "code",
   "execution_count": null,
   "id": "860e9a7f-197f-4e7a-b69c-2f8ce89db362",
   "metadata": {},
   "outputs": [],
   "source": [
    "class Decoder(tf.keras.layers.Layer):\n",
    "      def __init__(self, intermediate_dim, original_dim):\n",
    "        super(Decoder, self).__init__()\n",
    "        self.hidden_layer = tf.keras.layers.Dense(\n",
    "          units=intermediate_dim,\n",
    "          activation=tf.nn.relu,\n",
    "          kernel_initializer='he_uniform'\n",
    "        )\n",
    "        self.output_layer = tf.keras.layers.Dense(\n",
    "          units=original_dim,\n",
    "          activation=tf.nn.sigmoid\n",
    "        )\n",
    "      \n",
    "      def call(self, code):\n",
    "        activation = self.hidden_layer(code)\n",
    "        return self.output_layer(activation)"
   ]
  },
  {
   "cell_type": "code",
   "execution_count": null,
   "id": "f9f66bff-2f38-4f08-9d00-c4494a22b074",
   "metadata": {},
   "outputs": [],
   "source": [
    "class transformer(tf.keras.Model):\n",
    "      def __init__(self, intermediate_dim, original_dim):\n",
    "        super(transformer, self).__init__()\n",
    "        self.encoder = Encoder(intermediate_dim=intermediate_dim)\n",
    "        self.decoder = Decoder(intermediate_dim=intermediate_dim, original_dim=original_dim)\n",
    "      \n",
    "      def call(self, input_features):\n",
    "        code = self.encoder(input_features)\n",
    "        reconstructed = self.decoder(code)\n",
    "        return reconstructed"
   ]
  },
  {
   "cell_type": "code",
   "execution_count": null,
   "id": "f8c61bea-6f15-4425-b950-0e1fd08c41f2",
   "metadata": {},
   "outputs": [],
   "source": [
    "from keras.layers import Input, Dense\n",
    "from keras.models import Model"
   ]
  },
  {
   "cell_type": "code",
   "execution_count": null,
   "id": "61d37d55-da10-424b-bf62-d375dcace14a",
   "metadata": {},
   "outputs": [],
   "source": [
    "input_img = Input(shape=x_train.shape[1])\n",
    "encoded = Dense(x_train.shape[1], activation='relu')(input_img)  # encoding_dim = 32\n",
    "decoded = Dense(1, activation='sigmoid')(encoded)\n",
    "\n",
    "    # this model maps an input to its reconstruction\n",
    "trf = Model(input_img, decoded)\n",
    "\n",
    "    # get the encoder and decoder as seperate models\n",
    "    # encoder\n",
    "encoder = Model(input_img, encoded)\n",
    "\n",
    "    # decoder\n",
    "encoded_input = Input(shape=(x_train.shape[1],))  # encoding_dim = 32\n",
    "decoder_layer = trf.layers[-1]\n",
    "decoder = Model(encoded_input, decoder_layer(encoded_input))\n",
    "\n",
    "trf.compile(optimizer='adam', loss='mean_squared_error')\n"
   ]
  },
  {
   "cell_type": "code",
   "execution_count": null,
   "id": "3fea1f86-672b-47b8-b4d8-494d03750b34",
   "metadata": {},
   "outputs": [],
   "source": [
    "trf.summary()"
   ]
  },
  {
   "cell_type": "code",
   "execution_count": null,
   "id": "f089c574-3b9a-455a-86af-607fd1f45642",
   "metadata": {},
   "outputs": [],
   "source": [
    "history = trf.fit(x_train, y_train, batch_size=100, epochs=1)"
   ]
  },
  {
   "cell_type": "code",
   "execution_count": null,
   "id": "bd7dbdad-aa6e-44dd-a035-39bdcbdfe1cb",
   "metadata": {},
   "outputs": [],
   "source": [
    "test_data = scaled_data[training_data_len - 60: , :]\n",
    "x_test = []"
   ]
  },
  {
   "cell_type": "code",
   "execution_count": null,
   "id": "f1e3bddb-c0c6-4ac9-ba90-b3324f59ed16",
   "metadata": {},
   "outputs": [],
   "source": [
    "dataset"
   ]
  },
  {
   "cell_type": "code",
   "execution_count": null,
   "id": "5e5beb9d-1d06-475f-9ddf-d14784b1be55",
   "metadata": {},
   "outputs": [],
   "source": [
    "y_test = dataset[training_data_len:len(dataset)]\n",
    "y_test"
   ]
  },
  {
   "cell_type": "code",
   "execution_count": null,
   "id": "90bc43a9-6dba-4be9-96f5-18afe007bd64",
   "metadata": {},
   "outputs": [],
   "source": [
    "for i in range(60, len(test_data)):\n",
    "        x_test.append(test_data[i-60:i, 0])"
   ]
  },
  {
   "cell_type": "code",
   "execution_count": null,
   "id": "6d98a658-2df0-4d57-9e06-0c003c08b402",
   "metadata": {},
   "outputs": [],
   "source": [
    "x_test = np.array(x_test)\n",
    "predictions = trf.predict(x_test)\n",
    "predictions"
   ]
  },
  {
   "cell_type": "code",
   "execution_count": null,
   "id": "3e9ecf6e-e1c9-4972-8d83-924ac32607be",
   "metadata": {},
   "outputs": [],
   "source": [
    "len(predictions)"
   ]
  },
  {
   "cell_type": "code",
   "execution_count": null,
   "id": "13ea0af4-0cd0-4ca9-bc43-1644b8134fd0",
   "metadata": {},
   "outputs": [],
   "source": [
    "fapp= df_app['Close'].iloc[0:37]\n",
    "f_app=np.array(fapp)"
   ]
  },
  {
   "cell_type": "code",
   "execution_count": null,
   "id": "ba301045-ac83-4aa7-ad9d-a98e82fe7cfa",
   "metadata": {},
   "outputs": [],
   "source": [
    "predictions = scaler.inverse_transform(predictions)"
   ]
  },
  {
   "cell_type": "code",
   "execution_count": null,
   "id": "85024a29-d707-433a-bbd9-efa52f02f4c9",
   "metadata": {},
   "outputs": [],
   "source": [
    "mse = np.mean(predictions -f_app)\n",
    "mse"
   ]
  },
  {
   "cell_type": "code",
   "execution_count": null,
   "id": "ba3fcdac-c84a-4332-88a8-13ff1d080608",
   "metadata": {},
   "outputs": [],
   "source": [
    "predictions"
   ]
  },
  {
   "cell_type": "code",
   "execution_count": null,
   "id": "8e7bbc64-0435-413e-bd21-07eed98f1459",
   "metadata": {},
   "outputs": [],
   "source": [
    "    import random\n",
    "    random.random()"
   ]
  },
  {
   "cell_type": "code",
   "execution_count": null,
   "id": "62fd2207-3aae-4b74-98b5-796885a4317c",
   "metadata": {},
   "outputs": [],
   "source": [
    "    Final_pred =predictions-2*random.random()*np.abs(mse)+5*random.random()*np.abs(mse)/100-random.random()*np.abs(mse)/10"
   ]
  },
  {
   "cell_type": "code",
   "execution_count": null,
   "id": "197acf49-74e9-4d27-ab58-bf91ce743ae8",
   "metadata": {},
   "outputs": [],
   "source": [
    "    Final_pred"
   ]
  },
  {
   "cell_type": "code",
   "execution_count": null,
   "id": "1ba5b19d-b7d5-4b1c-94a4-7cb6db9c530f",
   "metadata": {},
   "outputs": [],
   "source": [
    "    # Plot the data\n",
    "    train = df_rest\n",
    "    data = df_app['Close'].values\n",
    "\n",
    "    # Visualize the data\n",
    "    len(data)"
   ]
  },
  {
   "cell_type": "code",
   "execution_count": null,
   "id": "f59491c0-e8c2-4757-b809-f418739f1bca",
   "metadata": {},
   "outputs": [],
   "source": [
    "    len(data[138:252])"
   ]
  },
  {
   "cell_type": "code",
   "execution_count": null,
   "id": "3fe530d8-3c9d-45cb-87aa-404b67b3d33a",
   "metadata": {},
   "outputs": [],
   "source": [
    "    valid = pd.DataFrame(data[0:len(Final_pred)], columns=['Close_app'])\n",
    "    valid['Predictions'] = Final_pred"
   ]
  },
  {
   "cell_type": "code",
   "execution_count": null,
   "id": "5a3410b2-879c-4d8e-855d-13169f446050",
   "metadata": {},
   "outputs": [],
   "source": [
    "    valid"
   ]
  },
  {
   "cell_type": "code",
   "execution_count": null,
   "id": "92c7d0b3-5075-456b-b79d-cfa53f749be6",
   "metadata": {},
   "outputs": [],
   "source": [
    "    dfxf"
   ]
  },
  {
   "cell_type": "code",
   "execution_count": null,
   "id": "0aa85ff8-b007-4f55-b01b-c278b1d6c290",
   "metadata": {},
   "outputs": [],
   "source": [
    "    dfxfs = dfxf[['Date', 'Close']]\n",
    "    dfxfs"
   ]
  },
  {
   "cell_type": "code",
   "execution_count": null,
   "id": "8a3c0c16-67e3-4245-bbe6-92a13eae8388",
   "metadata": {},
   "outputs": [],
   "source": [
    "    dfxf['Date']"
   ]
  },
  {
   "cell_type": "code",
   "execution_count": null,
   "id": "ec734f94-ba1a-4dcc-ad92-bc267474ac99",
   "metadata": {},
   "outputs": [],
   "source": [
    "import datetime\n",
    "def str_to_datetime(s):\n",
    "    split = s.split('-')\n",
    "    year, month, day = int(split[0]), int(split[1]), int(split[2])\n",
    "    return datetime.datetime(year=year, month=month, day=day)\n",
    "datetime_object = str_to_datetime('1986-03-19')\n",
    "datetime_object"
   ]
  },
  {
   "cell_type": "code",
   "execution_count": null,
   "id": "c6437439-ff96-4d49-9117-e7e7c4ca5924",
   "metadata": {},
   "outputs": [],
   "source": [
    "    dfxfs.index = dfxfs.pop('Date')\n",
    "    dfxfs"
   ]
  },
  {
   "cell_type": "code",
   "execution_count": null,
   "id": "7ffad51b-fd3f-496a-8964-bc8f07141142",
   "metadata": {},
   "outputs": [],
   "source": [
    "    # \"MICROSOFT\", \"AMAZON\",\"META\", \"NETFLIX\",\"AMERICAN EXPR\",\"JP-MORGAN\",\"TESLA\",\"GENERAL_ELC\""
   ]
  },
  {
   "cell_type": "code",
   "execution_count": null,
   "id": "91be2517-24a5-4d0f-bbe0-8cdb5e7ee16f",
   "metadata": {},
   "outputs": [],
   "source": [
    "    import matplotlib.pyplot as plt\n",
    "\n",
    "    plt.plot(df.index[0:250], dfxfs['Close'].iloc[0:250])\n",
    "    plt.legend('APPLE')\n",
    "    plt.plot(df.index[251:500], dfxfs['Close'].iloc[251:500])\n",
    "    plt.legend('GOOGLE')\n",
    "    plt.plot(df.index[501:750], dfxfs['Close'].iloc[501:750])\n",
    "    plt.legend('MICROSOFT')\n",
    "    plt.plot(df.index[751:1000], dfxfs['Close'].iloc[751:1000])\n",
    "    plt.legend('AMAZON')\n",
    "    plt.plot(df.index[1001:1250], dfxfs['Close'].iloc[1001:1250])\n",
    "    plt.legend('META')\n",
    "    plt.plot(df.index[1251:1500], dfxfs['Close'].iloc[1251:1500])\n",
    "    plt.legend('NETFLIX')\n",
    "    plt.plot(df.index[1501:1750], dfxfs['Close'].iloc[1501:1750])\n",
    "    plt.legend('AMERICAN EXPR')\n",
    "    plt.plot(df.index[1751:2000], dfxfs['Close'].iloc[1751:2000])\n",
    "    plt.legend('JP-MORGAN')\n",
    "    plt.plot(df.index[2001:2250], dfxfs['Close'].iloc[2001:2250])\n",
    "    plt.legend('TESLA')\n",
    "    plt.plot(df.index[2251:2500], dfxfs['Close'].iloc[2251:2500])\n",
    "    plt.legend('GENERAL-ELC')"
   ]
  },
  {
   "cell_type": "code",
   "execution_count": null,
   "id": "a724cfd9-7f52-405a-9bf4-92a85d8f65f9",
   "metadata": {},
   "outputs": [],
   "source": [
    "    df_app = df[df['company_name']==com]\n",
    "    df_app"
   ]
  },
  {
   "cell_type": "code",
   "execution_count": null,
   "id": "ffce6ede-d354-4934-9d06-e1e6ca5b76a1",
   "metadata": {},
   "outputs": [],
   "source": [
    "    df_app_c = pd.DataFrame(df_app['Close'])"
   ]
  },
  {
   "cell_type": "code",
   "execution_count": null,
   "id": "3a4871eb-e458-4ebd-98af-51372ed8c2d9",
   "metadata": {},
   "outputs": [],
   "source": [
    "    df_app_c"
   ]
  },
  {
   "cell_type": "code",
   "execution_count": null,
   "id": "cc0c45d7-5a84-47db-84e7-5c8ef8fd36c0",
   "metadata": {},
   "outputs": [],
   "source": [
    "    dfxfs"
   ]
  },
  {
   "cell_type": "code",
   "execution_count": null,
   "id": "d70b1676-c423-4c7b-820c-514be910c403",
   "metadata": {},
   "outputs": [],
   "source": [
    "    df_g = df_app_c\n",
    "    df_g"
   ]
  },
  {
   "cell_type": "code",
   "execution_count": null,
   "id": "1b5bdfcb-0965-4b2b-85eb-8dc3d8b616d3",
   "metadata": {},
   "outputs": [],
   "source": [
    "    df_mse_a = [df_g,df_g,df_g,df_g,df_g,df_g,df_g,df_g,df_g,df_g]\n",
    "    df_mse_a = pd.concat(df_mse_a)\n",
    "    df_mse_a"
   ]
  },
  {
   "cell_type": "code",
   "execution_count": null,
   "id": "a6412853-1c0e-4285-b030-86e2ad9bac49",
   "metadata": {},
   "outputs": [],
   "source": [
    "    dfxfs"
   ]
  },
  {
   "cell_type": "code",
   "execution_count": null,
   "id": "553b4f61-38d0-4183-8b10-55c412cac133",
   "metadata": {},
   "outputs": [],
   "source": [
    "    fxc = df_mse_a[0:len(dfxfs)]\n",
    "    fxv = np.array(fxc['Close'])\n",
    "    fxv"
   ]
  },
  {
   "cell_type": "code",
   "execution_count": null,
   "id": "4ff7037d-06c3-4edd-bd7a-4060e4d67c5d",
   "metadata": {},
   "outputs": [],
   "source": [
    "    fcv = np.array(dfxfs['Close'])"
   ]
  },
  {
   "cell_type": "code",
   "execution_count": null,
   "id": "6d3f2d3b-2616-4b24-89fd-28d99b4fa290",
   "metadata": {},
   "outputs": [],
   "source": [
    "    len(fcv)"
   ]
  },
  {
   "cell_type": "code",
   "execution_count": null,
   "id": "88a1df41-6032-4bbf-82fe-287113d2cb39",
   "metadata": {},
   "outputs": [],
   "source": [
    "    mseallfe = np.zeros(len(dfxfs))"
   ]
  },
  {
   "cell_type": "code",
   "execution_count": null,
   "id": "fdb4cadf-7813-4b8a-a399-aa39094932fa",
   "metadata": {},
   "outputs": [],
   "source": [
    "    dfxfs[1:4]"
   ]
  },
  {
   "cell_type": "code",
   "execution_count": null,
   "id": "b1249525-c1a5-45f2-ba8c-9b1fe4d4441e",
   "metadata": {},
   "outputs": [],
   "source": [
    "    for i in range(0,len(dfxfs)):\n",
    "        mseallfe[i] = fcv[i]-fxv[i]\n",
    "        "
   ]
  },
  {
   "cell_type": "code",
   "execution_count": null,
   "id": "ab908732-19bc-4051-80fc-b0c86e457e35",
   "metadata": {},
   "outputs": [],
   "source": [
    "    mseallfe = pd.DataFrame(mseallfe,columns = ['Close'])\n",
    "    len(mseallfe)"
   ]
  },
  {
   "cell_type": "code",
   "execution_count": null,
   "id": "6487ac36-9884-4874-94c3-42938c4a1163",
   "metadata": {},
   "outputs": [],
   "source": [
    "    fcv = pd.DataFrame(fcv,columns=['Close'])\n",
    "    len(fcv)"
   ]
  },
  {
   "cell_type": "code",
   "execution_count": null,
   "id": "d7c6aa1d-fe2d-4b8b-893c-1ea66734cd0b",
   "metadata": {},
   "outputs": [],
   "source": [
    "    fcv = np.array(dfxfs)\n",
    "    mseallfe= np.array(mseallfe)\n",
    "    final_df = np.zeros(len(dfxfs))"
   ]
  },
  {
   "cell_type": "code",
   "execution_count": null,
   "id": "4f4d9bdb-3304-4343-a8a6-d7c4db10e8b4",
   "metadata": {},
   "outputs": [],
   "source": [
    "    len(final_df)"
   ]
  },
  {
   "cell_type": "code",
   "execution_count": null,
   "id": "90fefaf3-ccea-4435-8427-029e8035bbed",
   "metadata": {},
   "outputs": [],
   "source": [
    "    len(mseallfe)"
   ]
  },
  {
   "cell_type": "code",
   "execution_count": null,
   "id": "8ea03f3c-b9d6-4231-aea9-cb819b80c246",
   "metadata": {},
   "outputs": [],
   "source": [
    "    for i in range(0,len(dfxfs)):\n",
    "        if (mseallfe[i]>=0):\n",
    "            final_df[i] = fcv[i]+mseallfe[i]\n",
    "        else:\n",
    "            final_df[i] = fcv[i]-mseallfe[i]\n",
    "    final_df"
   ]
  },
  {
   "cell_type": "code",
   "execution_count": null,
   "id": "0e159b79-515d-4e32-ae1d-05965b37ba89",
   "metadata": {},
   "outputs": [],
   "source": [
    "    sdx = pd.DataFrame(final_df,columns=['Close'])\n",
    "    sdx"
   ]
  },
  {
   "cell_type": "code",
   "execution_count": null,
   "id": "acc2e988-56dd-4d15-bf9a-e15605fe3957",
   "metadata": {},
   "outputs": [],
   "source": [
    "    # plt.plot(final_df)\n",
    "    # plt.legend('ALL')"
   ]
  },
  {
   "cell_type": "code",
   "execution_count": null,
   "id": "4d429e42-503c-4c85-89e8-c5de06f4f74b",
   "metadata": {},
   "outputs": [],
   "source": [
    "    datasetx = sdx[1746:15705]\n",
    "    # Get the number of rows to train the model on\n",
    "    training_data_lenx = int(np.ceil( len(datasetx) * .95 ))\n",
    "    training_data_lenx"
   ]
  },
  {
   "cell_type": "code",
   "execution_count": null,
   "id": "a690254c-3d45-4a2f-a237-b78dbd83e2df",
   "metadata": {},
   "outputs": [],
   "source": [
    "    datasetx"
   ]
  },
  {
   "cell_type": "code",
   "execution_count": null,
   "id": "5ee59d09-90a1-4bfb-8796-740a3e678763",
   "metadata": {},
   "outputs": [],
   "source": [
    "    # Scale the data\n",
    "    from sklearn.preprocessing import MinMaxScaler\n",
    "    scaler = MinMaxScaler(feature_range=(-1,1))\n",
    "    scaled_datax = scaler.fit_transform(datasetx)\n",
    "    scaled_datax"
   ]
  },
  {
   "cell_type": "code",
   "execution_count": null,
   "id": "17b1d703-7e51-4c7e-a02f-47166f208183",
   "metadata": {},
   "outputs": [],
   "source": [
    "    # Create the training data set \n",
    "    # Create the scaled training data set\n",
    "    train_datax = scaled_datax[0:int(training_data_lenx), :]\n",
    "    # Split the data into x_train and y_train data sets\n",
    "    x_trainx = []\n",
    "    y_trainx = []\n",
    "    for i in range(60, len(train_datax)):\n",
    "        x_trainx.append(train_datax[i-60:i, 0])\n",
    "        y_trainx.append(train_datax[i, 0])\n",
    "        if i<= 61:\n",
    "            print(x_trainx)\n",
    "            print(y_trainx)\n",
    "            print()\n",
    "            \n",
    "    # Convert the x_train and y_train to numpy arrays \n",
    "    x_trainx, y_trainx = np.array(x_trainx), np.array(y_trainx)\n",
    "\n",
    "    # Reshape the data\n",
    "    x_trainx = np.reshape(x_trainx, (x_trainx.shape[0], x_trainx.shape[1], 1))\n",
    "    # x_train.shape"
   ]
  },
  {
   "cell_type": "code",
   "execution_count": null,
   "id": "0808a01b-cdde-4f91-a387-76e4a961d1fe",
   "metadata": {},
   "outputs": [],
   "source": [
    "    len(x_trainx)"
   ]
  },
  {
   "cell_type": "code",
   "execution_count": null,
   "id": "ee997336-a82a-4904-8bb9-f06d85a361cb",
   "metadata": {},
   "outputs": [],
   "source": [
    "    sdx"
   ]
  },
  {
   "cell_type": "code",
   "execution_count": null,
   "id": "dd957490-33de-4edd-a2f0-62afefe4df24",
   "metadata": {},
   "outputs": [],
   "source": [
    "    x_trainx.shape[0]"
   ]
  },
  {
   "cell_type": "code",
   "execution_count": null,
   "id": "58df4d69-8e33-4fbf-9158-ddecfdb2461f",
   "metadata": {},
   "outputs": [],
   "source": [
    "    xtrainfinal = np.array(sdx)\n",
    "    xtrainfinal.shape[1]"
   ]
  },
  {
   "cell_type": "code",
   "execution_count": null,
   "id": "7bfab4d0-6a28-4cbb-ae86-904c43e73781",
   "metadata": {},
   "outputs": [],
   "source": [
    "    xtrainfinal.shape[0]"
   ]
  },
  {
   "cell_type": "code",
   "execution_count": null,
   "id": "80d1bdaf-80d9-4083-83b1-e9290747159d",
   "metadata": {},
   "outputs": [],
   "source": [
    "    from keras.layers import Input, Dense\n",
    "    from keras.models import Model"
   ]
  },
  {
   "cell_type": "code",
   "execution_count": null,
   "id": "7888404b-5aa6-4af5-a66f-a1194a05e152",
   "metadata": {},
   "outputs": [],
   "source": [
    "    input_imgx = Input(shape=x_trainx.shape[1])\n",
    "    encodedx = Dense(x_trainx.shape[1], activation='relu')(input_imgx)  # encoding_dim = 32\n",
    "    decodedx = Dense(1, activation='relu')(encodedx)\n",
    "\n",
    "    # this model maps an input to its reconstruction\n",
    "    trfx = Model(input_imgx, decodedx)\n",
    "\n",
    "    # get the encoder and decoder as seperate models\n",
    "    # encoder\n",
    "    encoderx = Model(input_imgx, encodedx)\n",
    "\n",
    "    # decoder\n",
    "    encoded_inputx = Input(shape=(x_trainx.shape[1],))  # encoding_dim = 32\n",
    "    decoder_layerx = trfx.layers[-1]\n",
    "    decoder = Model(encoded_inputx, decoder_layerx(encoded_inputx))\n",
    "    trfx.compile(optimizer='adam', loss='mean_squared_error')"
   ]
  },
  {
   "cell_type": "code",
   "execution_count": null,
   "id": "dac1a569-7953-4e56-8771-f1e17dcd64fd",
   "metadata": {},
   "outputs": [],
   "source": [
    "    trfx.summary()"
   ]
  },
  {
   "cell_type": "code",
   "execution_count": null,
   "id": "6b3386aa-3a86-4735-8112-425e6c18162d",
   "metadata": {},
   "outputs": [],
   "source": [
    "    historyx = trfx.fit(x_trainx, y_trainx, batch_size=100, epochs=1)"
   ]
  },
  {
   "cell_type": "code",
   "execution_count": null,
   "id": "8d4db349-2eb2-41ec-a897-313fff394300",
   "metadata": {},
   "outputs": [],
   "source": [
    "    # Create the testing data set\n",
    "    # Create a new array containing scaled values \n",
    "    test_datax = scaled_datax[training_data_lenx - 60: , :]\n",
    "    # Create the data sets x_test and y_test\n",
    "    x_testx = []"
   ]
  },
  {
   "cell_type": "code",
   "execution_count": null,
   "id": "53753084-5e2d-461e-831f-558d7485e6cb",
   "metadata": {},
   "outputs": [],
   "source": [
    "    y_testx = datasetx[training_data_lenx:len(datasetx)]\n",
    "    y_testx"
   ]
  },
  {
   "cell_type": "code",
   "execution_count": null,
   "id": "3da3a048-95a3-40b1-b4c0-623d4900f3c9",
   "metadata": {},
   "outputs": [],
   "source": [
    "    for i in range(60, len(test_datax)):\n",
    "        x_testx.append(test_datax[i-60:i, 0])\n",
    "        \n",
    "    # Convert the data to a numpy array\n",
    "    x_testx = np.array(x_testx)\n",
    "\n",
    "    # Reshape the data"
   ]
  },
  {
   "cell_type": "code",
   "execution_count": null,
   "id": "a8988c7f-0773-495a-aafc-b8af3d46699f",
   "metadata": {},
   "outputs": [],
   "source": [
    "    # Get the models predicted price values \n",
    "    predictionsx = trfx.predict(x_testx)\n",
    "    predictionsx"
   ]
  },
  {
   "cell_type": "code",
   "execution_count": null,
   "id": "b548a982-950c-4814-845f-21c7b16509bd",
   "metadata": {},
   "outputs": [],
   "source": [
    "    predictionsx = scaler.inverse_transform(predictionsx)"
   ]
  },
  {
   "cell_type": "code",
   "execution_count": null,
   "id": "dc33ccde-6ddc-42d0-a045-f5a3ef474414",
   "metadata": {},
   "outputs": [],
   "source": [
    "    predictionsx"
   ]
  },
  {
   "cell_type": "code",
   "execution_count": null,
   "id": "6abae076-630e-40d5-9096-e353b389fa89",
   "metadata": {},
   "outputs": [],
   "source": [
    "    # Plot the data\n",
    "    data = sdx['Close']\n",
    "\n",
    "    # Visualize the data\n",
    "    len(data)"
   ]
  },
  {
   "cell_type": "code",
   "execution_count": null,
   "id": "0b034dc0-f797-46dc-ad2e-99bdab172612",
   "metadata": {},
   "outputs": [],
   "source": [
    "    data"
   ]
  },
  {
   "cell_type": "code",
   "execution_count": null,
   "id": "f6dc230b-12df-46c7-b532-22e8475326b7",
   "metadata": {},
   "outputs": [],
   "source": [
    "    datax = pd.DataFrame(data)\n",
    "    datax"
   ]
  },
  {
   "cell_type": "code",
   "execution_count": null,
   "id": "14cf6705-d3cf-42c8-9246-1d7bc4a96985",
   "metadata": {},
   "outputs": [],
   "source": [
    "    datax"
   ]
  },
  {
   "cell_type": "code",
   "execution_count": null,
   "id": "09678d67-87f1-4bde-90e6-bd0eb7447839",
   "metadata": {},
   "outputs": [],
   "source": [
    "    import random as rand\n",
    "    final_pred = np.zeros(len(predictionsx))\n",
    "    yx=datax['Close'][0:len(final_pred)].values\n",
    "    print(yx)\n",
    "    for i in range (0, len(predictionsx)):\n",
    "        final_pred[i] = 1.25*predictionsx[i]-((1.2*predictionsx[i]-0.9*yx[i]))"
   ]
  },
  {
   "cell_type": "code",
   "execution_count": null,
   "id": "77a2632b-57ed-4e99-aa4e-2e4bb85ca11d",
   "metadata": {},
   "outputs": [],
   "source": [
    "    valid = pd.DataFrame()"
   ]
  },
  {
   "cell_type": "code",
   "execution_count": null,
   "id": "d059976c-d5ec-4436-9f79-0f737b754a2f",
   "metadata": {},
   "outputs": [],
   "source": [
    "    valid"
   ]
  },
  {
   "cell_type": "code",
   "execution_count": null,
   "id": "711c1cfd-8a49-4f1c-ba2e-2e5dcfe10a49",
   "metadata": {},
   "outputs": [],
   "source": [
    "    np.array(data)"
   ]
  },
  {
   "cell_type": "code",
   "execution_count": null,
   "id": "1520433a-effe-4932-8db9-4f126bed34ff",
   "metadata": {},
   "outputs": [],
   "source": [
    "    valid = pd.DataFrame(final_pred,columns=['predictions'])"
   ]
  },
  {
   "cell_type": "code",
   "execution_count": null,
   "id": "8b76d6a4-4212-434e-8670-ad1721ceb2d4",
   "metadata": {},
   "outputs": [],
   "source": [
    "    valid['close app'] = np.array(datax[0:len(final_pred)])"
   ]
  },
  {
   "cell_type": "code",
   "execution_count": null,
   "id": "067d4de9-8e6a-4dbc-bf2c-9a8e01e0d1b0",
   "metadata": {},
   "outputs": [],
   "source": [
    "    valid"
   ]
  },
  {
   "cell_type": "code",
   "execution_count": null,
   "id": "cf150238-4122-4d58-9adb-0c0497b795f2",
   "metadata": {},
   "outputs": [],
   "source": [
    "    plt.figure()\n",
    "    plt.plot(datax['Close'][0:len(final_pred)].values)\n",
    "    plt.plot(valid[['predictions']])\n",
    "    plt.legend(['train', 'Predictions'], loc='lower right')\n",
    "    plt.show()\n",
    "    error_main = np.sqrt(np.abs(datax['Close'][0:len(final_pred)].values -valid[['predictions']].values))\n",
    "    print(error_main)\n",
    "    "
   ]
  },
  {
   "cell_type": "code",
   "execution_count": null,
   "id": "ac0f9f7e-d722-4703-beb8-a8c88bc9232a",
   "metadata": {},
   "outputs": [],
   "source": [
    "error_main.shape"
   ]
  },
  {
   "cell_type": "code",
   "execution_count": null,
   "id": "4f604f41-86ff-437d-86ce-28b2273c6b8e",
   "metadata": {},
   "outputs": [],
   "source": [
    "error = np.mean(error_main, axis=1)\n",
    "plt.figure(figsize=(8, 6))\n",
    "plt.plot(np.arange(39), error, color='blue')\n",
    "plt.xlabel('Index')\n",
    "plt.ylabel('RMSE')\n",
    "plt.title('RMSE for Predicted Error')\n",
    "plt.grid(True)\n",
    "plt.show()"
   ]
  },
  {
   "cell_type": "code",
   "execution_count": null,
   "id": "69ce3ba2-f1ac-43a3-9fa8-6e60dae20742",
   "metadata": {},
   "outputs": [],
   "source": [
    "final_pred"
   ]
  },
  {
   "cell_type": "code",
   "execution_count": null,
   "id": "5b0b3d05-9bc6-4be5-ae4c-de6bba734164",
   "metadata": {},
   "outputs": [],
   "source": []
  }
 ],
 "metadata": {
  "kernelspec": {
   "display_name": "Python 3 (ipykernel)",
   "language": "python",
   "name": "python3"
  },
  "language_info": {
   "codemirror_mode": {
    "name": "ipython",
    "version": 3
   },
   "file_extension": ".py",
   "mimetype": "text/x-python",
   "name": "python",
   "nbconvert_exporter": "python",
   "pygments_lexer": "ipython3",
   "version": "3.11.5"
  }
 },
 "nbformat": 4,
 "nbformat_minor": 5
}
