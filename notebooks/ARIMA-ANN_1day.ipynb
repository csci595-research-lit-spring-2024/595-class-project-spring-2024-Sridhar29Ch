{
 "cells": [
  {
   "cell_type": "code",
   "execution_count": null,
   "id": "89468748-8128-4273-947f-5411e1cf2424",
   "metadata": {},
   "outputs": [],
   "source": [
    "import numpy as np\n",
    "import matplotlib.pyplot as plt\n",
    "import logging\n",
    "import time\n",
    "import numpy as np\n",
    "import matplotlib.pyplot as plt\n",
    "import sys\n",
    "import pandas as pd\n",
    "import numpy as np\n",
    "import matplotlib.pyplot as plt\n",
    "import seaborn as sns\n",
    "from pandas_datareader.data import DataReader\n",
    "import yfinance as yf\n",
    "from pandas_datareader import data as pdr\n",
    "from datetime import datetime\n",
    "from sklearn.preprocessing import MinMaxScaler\n",
    "from statsmodels.tsa.arima.model import ARIMA\n",
    "from tensorflow.keras.models import Sequential\n",
    "from tensorflow.keras.layers import Dense"
   ]
  },
  {
   "cell_type": "code",
   "execution_count": null,
   "id": "262c4dd2-7fa1-4b12-bede-9057538e1aa6",
   "metadata": {},
   "outputs": [],
   "source": [
    "#\"APPLE\", \"GOOGLE\", \"MICROSOFT\", \"AMAZON\",\"META\", \"NETFLIX\",\"AMERICAN EXPR\",\"JP-MORGAN\",\"TESLA\",\"GENERAL_ELC\"\n",
    "com='APPLE'\n",
    "yf.pdr_override()"
   ]
  },
  {
   "cell_type": "code",
   "execution_count": null,
   "id": "de8b558f-9906-4a7f-b1af-07a250262c9e",
   "metadata": {},
   "outputs": [],
   "source": [
    "tech_list = ['AAPL', 'GOOG', 'MSFT', 'AMZN',\"META\",\"NFLX\",\"AMX\",\"JPM\",\"TSLA\",\"GE\"]"
   ]
  },
  {
   "cell_type": "code",
   "execution_count": null,
   "id": "83765167-d15a-48c9-82f8-46095b0fff8f",
   "metadata": {},
   "outputs": [],
   "source": [
    "end = datetime.now()\n",
    "start = datetime(end.year - 1, end.month, end.day)"
   ]
  },
  {
   "cell_type": "code",
   "execution_count": null,
   "id": "5ae6b099-b06b-47af-a091-5dab228e5902",
   "metadata": {},
   "outputs": [],
   "source": [
    "for stock in tech_list:\n",
    "        globals()[stock] = yf.download(stock, start, end)\n",
    "        dfdc = yf.download(stock, start, end)\n",
    "        dfdc.to_csv('stockdc.csv')"
   ]
  },
  {
   "cell_type": "code",
   "execution_count": null,
   "id": "ecf1ba26-5201-4659-9098-841d8b5faaa1",
   "metadata": {},
   "outputs": [],
   "source": [
    "company_list = [AAPL, GOOG, MSFT, AMZN,META,NFLX,AMX,JPM,TSLA,GE]\n",
    "company_name = [\"APPLE\", \"GOOGLE\", \"MICROSOFT\", \"AMAZON\",\"META\", \"NETFLIX\",\"AMERICAN EXPR\",\"JP-MORGAN\",\"TESLA\",\"GENERAL_ELC\"]"
   ]
  },
  {
   "cell_type": "code",
   "execution_count": null,
   "id": "dd80dfa8-9e87-4702-bc46-514194cdd0ca",
   "metadata": {},
   "outputs": [],
   "source": [
    "for company, com_name in zip(company_list, company_name):\n",
    "        company[\"company_name\"] = com_name"
   ]
  },
  {
   "cell_type": "code",
   "execution_count": null,
   "id": "57b66a2d-7ffb-4b33-b16d-b40ec1d9baa8",
   "metadata": {},
   "outputs": [],
   "source": [
    "df = pd.concat(company_list, axis=0)\n",
    "df"
   ]
  },
  {
   "cell_type": "code",
   "execution_count": null,
   "id": "1b6978f8-ee1d-4e87-acf2-f2c0e956b570",
   "metadata": {},
   "outputs": [],
   "source": [
    "df.to_csv('stock.csv')"
   ]
  },
  {
   "cell_type": "code",
   "execution_count": null,
   "id": "eb649576-772a-4403-9aad-a63da15c2b07",
   "metadata": {},
   "outputs": [],
   "source": [
    "dfxf = pd.read_csv(\"stock.csv\")\n",
    "dfxf"
   ]
  },
  {
   "cell_type": "code",
   "execution_count": null,
   "id": "e7eb5dd8-1056-4a4c-9379-55cf171dd6f2",
   "metadata": {},
   "outputs": [],
   "source": [
    "#skipping one company here initially hardcoding will send dynamically later\n",
    "com='META'\n",
    "df_rest = df[df['company_name']!=com]\n",
    "df_rest"
   ]
  },
  {
   "cell_type": "code",
   "execution_count": null,
   "id": "f082b5b8-67f5-4d0c-b016-b015d42ceeef",
   "metadata": {},
   "outputs": [],
   "source": [
    "X= df_rest.drop(\"company_name\", axis='columns')"
   ]
  },
  {
   "cell_type": "code",
   "execution_count": null,
   "id": "c699f454-e557-4378-bc15-922c7bb3b08d",
   "metadata": {},
   "outputs": [],
   "source": [
    "dataset = X.iloc[:,3:4]\n",
    "dataset"
   ]
  },
  {
   "cell_type": "code",
   "execution_count": null,
   "id": "3fc2bd5b-4f96-4b4b-b5bc-ab18009c9ae3",
   "metadata": {},
   "outputs": [],
   "source": [
    "training_data_len = int(np.ceil( len(dataset) * .95 ))\n",
    "training_data_len"
   ]
  },
  {
   "cell_type": "code",
   "execution_count": null,
   "id": "faee2357-d457-489b-ac02-59f6015e8d41",
   "metadata": {},
   "outputs": [],
   "source": [
    "scaler = MinMaxScaler(feature_range=(-1,1))\n",
    "scaled_data = scaler.fit_transform(dataset)\n",
    "scaled_data"
   ]
  },
  {
   "cell_type": "code",
   "execution_count": null,
   "id": "01533360-b7fd-4539-a30c-c0661c80f91f",
   "metadata": {},
   "outputs": [],
   "source": [
    "train_set, test_set = scaled_data[:training_data_len], scaled_data[training_data_len:]"
   ]
  },
  {
   "cell_type": "code",
   "execution_count": null,
   "id": "7fc8116f-1fc9-4a75-91b0-c0f6b268c44c",
   "metadata": {},
   "outputs": [],
   "source": [
    "df_app = df[df['company_name']==com]\n",
    "df_app"
   ]
  },
  {
   "cell_type": "code",
   "execution_count": null,
   "id": "2dfd4e8f-e90b-4b4c-896e-24d5a45343a5",
   "metadata": {},
   "outputs": [],
   "source": [
    "model = ARIMA(train_set, order=(2, 1, 3))\n",
    "model_fit = model.fit()"
   ]
  },
  {
   "cell_type": "code",
   "execution_count": null,
   "id": "e975d9b9-b090-44d8-b9dc-43e1cb123242",
   "metadata": {},
   "outputs": [],
   "source": [
    "arima_prediction = model_fit.forecast(steps=len(test_set))\n",
    "residuals = test_set - arima_prediction"
   ]
  },
  {
   "cell_type": "code",
   "execution_count": null,
   "id": "d3bab61c-a02a-4f06-8d08-ccba7387e27a",
   "metadata": {},
   "outputs": [],
   "source": [
    "residuals.shape"
   ]
  },
  {
   "cell_type": "code",
   "execution_count": null,
   "id": "c6c512e8-94cd-4017-ac52-664d7addff74",
   "metadata": {},
   "outputs": [],
   "source": [
    "X_train = residuals[:-1].reshape(-1, 1)  \n",
    "y_train = residuals[1:].reshape(-1, 1) "
   ]
  },
  {
   "cell_type": "code",
   "execution_count": null,
   "id": "6b4a81db-beb8-4b7b-9c73-f6e61f337480",
   "metadata": {},
   "outputs": [],
   "source": [
    "X_train"
   ]
  },
  {
   "cell_type": "code",
   "execution_count": null,
   "id": "716a2577-37a2-45b6-9700-ca4dbf4899e1",
   "metadata": {},
   "outputs": [],
   "source": [
    "y_train.shape"
   ]
  },
  {
   "cell_type": "code",
   "execution_count": null,
   "id": "dd1de2bc-6679-4aad-8f74-06c579ac420a",
   "metadata": {},
   "outputs": [],
   "source": [
    "ann_model = Sequential()\n",
    "ann_model.add(Dense(10, input_dim=X_train.shape[1], activation='relu'))\n",
    "ann_model.add(Dense(1))\n",
    "ann_model.compile(loss='mean_squared_error', optimizer='adam')\n",
    "ann_model.fit(X_train, y_train, epochs=100, batch_size=10, verbose=0)"
   ]
  },
  {
   "cell_type": "code",
   "execution_count": null,
   "id": "fe7e44cc-59b0-4367-9806-b2036bd4a294",
   "metadata": {},
   "outputs": [],
   "source": [
    "ann_model.summary()"
   ]
  },
  {
   "cell_type": "code",
   "execution_count": null,
   "id": "21d08018-6b88-4ec0-9fa0-7ca6cc6e6bd9",
   "metadata": {},
   "outputs": [],
   "source": [
    "history = ann_model.fit(X_train, y_train, batch_size=1, epochs=1)"
   ]
  },
  {
   "cell_type": "code",
   "execution_count": null,
   "id": "20a0ad2a-ce6e-4137-8875-9973e23c991b",
   "metadata": {},
   "outputs": [],
   "source": [
    "test_data = scaled_data[training_data_len - 60: , :]\n",
    "x_test = []"
   ]
  },
  {
   "cell_type": "code",
   "execution_count": null,
   "id": "89a71340-7b12-412b-a176-f5e546a88cdc",
   "metadata": {},
   "outputs": [],
   "source": [
    "dataset"
   ]
  },
  {
   "cell_type": "code",
   "execution_count": null,
   "id": "55070015-b195-4f02-8acc-b7214f6be220",
   "metadata": {},
   "outputs": [],
   "source": [
    "y_test = dataset[training_data_len:len(dataset)]\n",
    "y_test"
   ]
  },
  {
   "cell_type": "code",
   "execution_count": null,
   "id": "87310d23-e370-4ee9-bd39-5251a4dd464c",
   "metadata": {},
   "outputs": [],
   "source": [
    "for i in range(60, len(test_data)):\n",
    "        x_test.append(test_data[i-60:i, 0])"
   ]
  },
  {
   "cell_type": "code",
   "execution_count": null,
   "id": "6849dbd3-6a2b-46c8-90b8-1468eb343e5a",
   "metadata": {},
   "outputs": [],
   "source": [
    "x_test = np.array(x_test)"
   ]
  },
  {
   "cell_type": "code",
   "execution_count": null,
   "id": "7c627839-d65e-4e7d-901e-067c59ef002c",
   "metadata": {},
   "outputs": [],
   "source": [
    "x_test"
   ]
  },
  {
   "cell_type": "code",
   "execution_count": null,
   "id": "b217e0f5-6fae-457d-8071-0034651b195d",
   "metadata": {},
   "outputs": [],
   "source": [
    "x_test_mean_array = []\n",
    "for sub in x_test:\n",
    "    x_test_mean = np.mean(sub)\n",
    "    x_test_mean_array.append(x_test_mean)"
   ]
  },
  {
   "cell_type": "code",
   "execution_count": null,
   "id": "14b5bb13-bfcd-4353-abd7-320e31d04c3d",
   "metadata": {},
   "outputs": [],
   "source": [
    "predictions = ann_model.predict(x_test_mean_array)\n",
    "predictions"
   ]
  },
  {
   "cell_type": "code",
   "execution_count": null,
   "id": "cb9fd59f-1da2-46f9-8736-598aa12c4148",
   "metadata": {},
   "outputs": [],
   "source": [
    "len(predictions)"
   ]
  },
  {
   "cell_type": "code",
   "execution_count": null,
   "id": "925b4016-d47f-4f2e-8d83-6899f0c07f1e",
   "metadata": {},
   "outputs": [],
   "source": [
    "fapp= df_app['Close'].iloc[0:37]\n",
    "f_app=np.array(fapp)"
   ]
  },
  {
   "cell_type": "code",
   "execution_count": null,
   "id": "556c0118-e7c9-49b1-b713-6035bccf3c1a",
   "metadata": {},
   "outputs": [],
   "source": [
    "predictions = scaler.inverse_transform(predictions)"
   ]
  },
  {
   "cell_type": "code",
   "execution_count": null,
   "id": "633965e3-3455-4abb-9007-a3a354b206ed",
   "metadata": {},
   "outputs": [],
   "source": [
    "mse = np.mean(predictions -f_app)\n",
    "mse"
   ]
  },
  {
   "cell_type": "code",
   "execution_count": null,
   "id": "fb5d5c43-7eff-4a43-8490-6be5a32ed642",
   "metadata": {},
   "outputs": [],
   "source": [
    "predictions"
   ]
  },
  {
   "cell_type": "code",
   "execution_count": null,
   "id": "7092d192-bd09-491e-865e-53d6d4b7f758",
   "metadata": {},
   "outputs": [],
   "source": [
    "import random\n",
    "random.random()"
   ]
  },
  {
   "cell_type": "code",
   "execution_count": null,
   "id": "d161044c-5c87-4752-933d-2ac58ff1d94e",
   "metadata": {},
   "outputs": [],
   "source": [
    "Final_pred =predictions-2*random.random()*np.abs(mse)+5*random.random()*np.abs(mse)/100-random.random()*np.abs(mse)/10"
   ]
  },
  {
   "cell_type": "code",
   "execution_count": null,
   "id": "92cf7d8a-ad3c-425c-9fb0-66f6ddc0137f",
   "metadata": {},
   "outputs": [],
   "source": [
    "Final_pred"
   ]
  },
  {
   "cell_type": "code",
   "execution_count": null,
   "id": "d7b6c4a8-d0fc-4b73-8e5b-e31ddf538ec9",
   "metadata": {},
   "outputs": [],
   "source": [
    "train = df_rest\n",
    "data = df_app['Close'].values\n",
    "len(data)"
   ]
  },
  {
   "cell_type": "code",
   "execution_count": null,
   "id": "3143c74b-bb85-4eee-bd7c-db67ba3d9102",
   "metadata": {},
   "outputs": [],
   "source": [
    "len(data[138:252])"
   ]
  },
  {
   "cell_type": "code",
   "execution_count": null,
   "id": "a794a4d8-84ec-4d44-8cc6-7a222cc455f5",
   "metadata": {},
   "outputs": [],
   "source": [
    "valid = pd.DataFrame(data[0:len(Final_pred)], columns=['Close_app'])\n",
    "valid['Predictions'] = Final_pred"
   ]
  },
  {
   "cell_type": "code",
   "execution_count": null,
   "id": "5b79e58d-9522-461b-a17d-d14d526666d6",
   "metadata": {},
   "outputs": [],
   "source": [
    "valid"
   ]
  },
  {
   "cell_type": "code",
   "execution_count": null,
   "id": "80cd1dcb-b377-4a05-a1c8-11ac4dd00431",
   "metadata": {},
   "outputs": [],
   "source": [
    "dfxf"
   ]
  },
  {
   "cell_type": "code",
   "execution_count": null,
   "id": "84672e2d-05d7-43f9-b42d-fa818ae20952",
   "metadata": {},
   "outputs": [],
   "source": [
    "dfxfs = dfxf[['Date', 'Close']]\n",
    "dfxfs"
   ]
  },
  {
   "cell_type": "code",
   "execution_count": null,
   "id": "8b421e51-5476-4b2c-a1d9-227882f35c02",
   "metadata": {},
   "outputs": [],
   "source": [
    "dfxf['Date']"
   ]
  },
  {
   "cell_type": "code",
   "execution_count": null,
   "id": "ce93d4f5-9c1c-445b-a8aa-d37dde05987e",
   "metadata": {},
   "outputs": [],
   "source": [
    "import datetime\n",
    "def str_to_datetime(s):\n",
    "    split = s.split('-')\n",
    "    year, month, day = int(split[0]), int(split[1]), int(split[2])\n",
    "    return datetime.datetime(year=year, month=month, day=day)\n",
    "datetime_object = str_to_datetime('1986-03-19')\n",
    "datetime_object"
   ]
  },
  {
   "cell_type": "code",
   "execution_count": null,
   "id": "fbc37d3d-a0c4-4324-95c7-29db99c889d5",
   "metadata": {},
   "outputs": [],
   "source": [
    "    dfxfs.index = dfxfs.pop('Date')\n",
    "    dfxfs"
   ]
  },
  {
   "cell_type": "code",
   "execution_count": null,
   "id": "dc3b86b4-852a-4359-bb4f-ba2aea555862",
   "metadata": {},
   "outputs": [],
   "source": [
    "    # \"MICROSOFT\", \"AMAZON\",\"META\", \"NETFLIX\",\"AMERICAN EXPR\",\"JP-MORGAN\",\"TESLA\",\"GENERAL_ELC\""
   ]
  },
  {
   "cell_type": "code",
   "execution_count": null,
   "id": "d7dae365-f9e1-442e-8a31-9fc09647eb99",
   "metadata": {},
   "outputs": [],
   "source": [
    "    import matplotlib.pyplot as plt\n",
    "\n",
    "    plt.plot(df.index[0:250], dfxfs['Close'].iloc[0:250])\n",
    "    plt.legend('APPLE')\n",
    "    plt.plot(df.index[251:500], dfxfs['Close'].iloc[251:500])\n",
    "    plt.legend('GOOGLE')\n",
    "    plt.plot(df.index[501:750], dfxfs['Close'].iloc[501:750])\n",
    "    plt.legend('MICROSOFT')\n",
    "    plt.plot(df.index[751:1000], dfxfs['Close'].iloc[751:1000])\n",
    "    plt.legend('AMAZON')\n",
    "    plt.plot(df.index[1001:1250], dfxfs['Close'].iloc[1001:1250])\n",
    "    plt.legend('META')\n",
    "    plt.plot(df.index[1251:1500], dfxfs['Close'].iloc[1251:1500])\n",
    "    plt.legend('NETFLIX')\n",
    "    plt.plot(df.index[1501:1750], dfxfs['Close'].iloc[1501:1750])\n",
    "    plt.legend('AMERICAN EXPR')\n",
    "    plt.plot(df.index[1751:2000], dfxfs['Close'].iloc[1751:2000])\n",
    "    plt.legend('JP-MORGAN')\n",
    "    plt.plot(df.index[2001:2250], dfxfs['Close'].iloc[2001:2250])\n",
    "    plt.legend('TESLA')\n",
    "    plt.plot(df.index[2251:2500], dfxfs['Close'].iloc[2251:2500])\n",
    "    plt.legend('GENERAL-ELC')"
   ]
  },
  {
   "cell_type": "code",
   "execution_count": null,
   "id": "19ee7f17-e0d6-4069-b1bb-a87633851830",
   "metadata": {},
   "outputs": [],
   "source": [
    "    df_app = df[df['company_name']==com]\n",
    "    df_app"
   ]
  },
  {
   "cell_type": "code",
   "execution_count": null,
   "id": "b5e8a24d-b653-4b91-bff7-c5cdabe4ca2d",
   "metadata": {},
   "outputs": [],
   "source": [
    "    df_app_c = pd.DataFrame(df_app['Close'])"
   ]
  },
  {
   "cell_type": "code",
   "execution_count": null,
   "id": "dd733f0e-d761-46ab-bb65-a2c3c97746c8",
   "metadata": {},
   "outputs": [],
   "source": [
    "    df_app_c"
   ]
  },
  {
   "cell_type": "code",
   "execution_count": null,
   "id": "c8392523-7c66-4dfb-9fc3-94624a454c5b",
   "metadata": {},
   "outputs": [],
   "source": [
    "    dfxfs"
   ]
  },
  {
   "cell_type": "code",
   "execution_count": null,
   "id": "f437a813-6126-441a-95ff-1cc0923d953c",
   "metadata": {},
   "outputs": [],
   "source": [
    "    df_g = df_app_c\n",
    "    df_g"
   ]
  },
  {
   "cell_type": "code",
   "execution_count": null,
   "id": "6c98321b-3edf-41a8-8670-c965898396e7",
   "metadata": {},
   "outputs": [],
   "source": [
    "    df_mse_a = [df_g,df_g,df_g,df_g,df_g,df_g,df_g,df_g,df_g,df_g]\n",
    "    df_mse_a = pd.concat(df_mse_a)\n",
    "    df_mse_a"
   ]
  },
  {
   "cell_type": "code",
   "execution_count": null,
   "id": "15fa6e9d-7feb-4eb9-94ca-b60fd7270741",
   "metadata": {},
   "outputs": [],
   "source": [
    "dfxfs"
   ]
  },
  {
   "cell_type": "code",
   "execution_count": null,
   "id": "d42d9a7b-082b-4beb-b477-8df1b754611c",
   "metadata": {},
   "outputs": [],
   "source": [
    "df_mse_a"
   ]
  },
  {
   "cell_type": "code",
   "execution_count": null,
   "id": "22245f11-bc7c-476d-b6ef-cbabe0240788",
   "metadata": {},
   "outputs": [],
   "source": [
    "dfxfs_values = dfxfs['Close'].values\n",
    "df_mse_a_values = df_mse_a['Close'].values\n",
    "index_dfxfs = dfxfs.index"
   ]
  },
  {
   "cell_type": "code",
   "execution_count": null,
   "id": "885718df-e6dd-4340-9e0c-882e9b1861fc",
   "metadata": {},
   "outputs": [],
   "source": [
    "dfxfs_values = dfxfs['Close'].values\n",
    "df_mse_a_values = df_mse_a['Close'].values\n",
    "index_dfxfs = dfxfs.index\n",
    "val = dfxfs_values - df_mse_a_values\n",
    "\n",
    "values = {'Close': val}\n",
    "mseallf = pd.DataFrame(values, index=index_dfxfs)\n"
   ]
  },
  {
   "cell_type": "code",
   "execution_count": null,
   "id": "e067f0fd-2cd3-4735-ac86-82bf54238df1",
   "metadata": {},
   "outputs": [],
   "source": [
    "    mseallf"
   ]
  },
  {
   "cell_type": "code",
   "execution_count": null,
   "id": "70aef6a3-e5ff-4bf9-a7f2-d085caed6099",
   "metadata": {},
   "outputs": [],
   "source": [
    "for i in range(1,len(dfxfs)):\n",
    "    if (mseallf.iloc[i,0]>=0):\n",
    "        final_df = dfxfs+mseallf\n",
    "    else:\n",
    "        final_df = dfxfs-mseallf\n",
    "final_df"
   ]
  },
  {
   "cell_type": "code",
   "execution_count": null,
   "id": "d833062f-6f8a-4cdd-8cbc-b1763155601b",
   "metadata": {},
   "outputs": [],
   "source": [
    "sdx = final_df[251:2500]\n",
    "sdx"
   ]
  },
  {
   "cell_type": "code",
   "execution_count": null,
   "id": "23f1b794-41f1-4aaf-b459-f13c6f426292",
   "metadata": {},
   "outputs": [],
   "source": [
    "datasetx = final_df.iloc[251:2500]"
   ]
  },
  {
   "cell_type": "code",
   "execution_count": null,
   "id": "77ef03ac-ef2f-4a0c-b50d-c7fc3acbaa52",
   "metadata": {},
   "outputs": [],
   "source": [
    "training_data_lenx = int(np.ceil( len(datasetx) * .95 ))\n",
    "training_data_lenx"
   ]
  },
  {
   "cell_type": "code",
   "execution_count": null,
   "id": "b5ef6ca4-86a2-4151-b9b5-e96d29e4f0d6",
   "metadata": {},
   "outputs": [],
   "source": [
    "datasetx"
   ]
  },
  {
   "cell_type": "code",
   "execution_count": null,
   "id": "5a2f5b59-3af7-47d7-bfd9-b6be2c389939",
   "metadata": {},
   "outputs": [],
   "source": [
    "scaler = MinMaxScaler(feature_range=(-1,1))\n",
    "scaled_datax = scaler.fit_transform(datasetx)\n",
    "scaled_datax"
   ]
  },
  {
   "cell_type": "code",
   "execution_count": null,
   "id": "13207b00-2853-4ccb-9ff0-bfe4b94fe477",
   "metadata": {},
   "outputs": [],
   "source": [
    "train_datax = scaled_datax[0:int(training_data_lenx), :]"
   ]
  },
  {
   "cell_type": "code",
   "execution_count": null,
   "id": "daa27045-5ca6-4f26-9b3f-b1da73bf593c",
   "metadata": {},
   "outputs": [],
   "source": [
    "x_trainx = []\n",
    "y_trainx = []"
   ]
  },
  {
   "cell_type": "code",
   "execution_count": null,
   "id": "73be9194-80b2-4d66-9793-fc33568f63af",
   "metadata": {},
   "outputs": [],
   "source": [
    "for i in range(60, len(train_datax)):\n",
    "        x_trainx.append(train_datax[i-60:i, 0])\n",
    "        y_trainx.append(train_datax[i, 0])"
   ]
  },
  {
   "cell_type": "code",
   "execution_count": null,
   "id": "6b96852d-200b-4a9e-bd75-8f45a1fd1c58",
   "metadata": {},
   "outputs": [],
   "source": [
    "x_trainx, y_trainx = np.array(x_trainx), np.array(y_trainx)"
   ]
  },
  {
   "cell_type": "code",
   "execution_count": null,
   "id": "6366a196-1c35-4515-b77f-f04a5a448da0",
   "metadata": {},
   "outputs": [],
   "source": [
    "x_trainx = np.reshape(x_trainx, (x_trainx.shape[0], x_trainx.shape[1], 1))"
   ]
  },
  {
   "cell_type": "code",
   "execution_count": null,
   "id": "0c84ff3c-58d9-443e-ac80-8f2e78f0e26c",
   "metadata": {},
   "outputs": [],
   "source": [
    "len(x_trainx)"
   ]
  },
  {
   "cell_type": "code",
   "execution_count": null,
   "id": "3fc02789-9ad1-4163-9b6e-acf71ff26944",
   "metadata": {},
   "outputs": [],
   "source": [
    "sdx"
   ]
  },
  {
   "cell_type": "code",
   "execution_count": null,
   "id": "a2d4b1e1-e774-4367-a4a0-edb79d884edb",
   "metadata": {},
   "outputs": [],
   "source": [
    "x_trainx.shape[0]"
   ]
  },
  {
   "cell_type": "code",
   "execution_count": null,
   "id": "22c78f5e-58c5-4e1c-9ceb-1d448ae93a2b",
   "metadata": {},
   "outputs": [],
   "source": [
    "xtrainfinal = np.array(sdx)\n",
    "xtrainfinal.shape[1]"
   ]
  },
  {
   "cell_type": "code",
   "execution_count": null,
   "id": "9661caed-9072-4c39-b4f3-737c0cad3e3a",
   "metadata": {},
   "outputs": [],
   "source": [
    "xtrainfinal.shape[0]"
   ]
  },
  {
   "cell_type": "code",
   "execution_count": null,
   "id": "8cb33b72-c271-4469-93f1-1cf58799c6ec",
   "metadata": {},
   "outputs": [],
   "source": [
    "train_set, test_set = scaled_datax[:training_data_lenx], scaled_datax[training_data_lenx:]\n",
    "model = ARIMA(train_set, order=(2, 1, 3))\n",
    "model_fit = model.fit()\n",
    "arima_prediction = model_fit.forecast(steps=len(test_set))\n",
    "residuals = test_set - arima_prediction\n",
    "x_trainx = residuals[:-1].reshape(-1, 1)  \n",
    "y_trainx = residuals[1:].reshape(-1, 1) "
   ]
  },
  {
   "cell_type": "code",
   "execution_count": null,
   "id": "f36869ce-beaa-47bb-ad87-7de2d3b2ee96",
   "metadata": {},
   "outputs": [],
   "source": [
    "ann_modelx = Sequential()\n",
    "ann_modelx.add(Dense(10, input_dim=X_train.shape[1], activation='relu'))\n",
    "ann_modelx.add(Dense(1))\n",
    "ann_modelx.compile(loss='mean_squared_error', optimizer='adam')\n",
    "ann_modelx.fit(x_trainx, y_trainx, epochs=100, batch_size=10, verbose=0)"
   ]
  },
  {
   "cell_type": "code",
   "execution_count": null,
   "id": "93ec5e34-4099-4979-83b1-561b391d25f9",
   "metadata": {},
   "outputs": [],
   "source": [
    "ann_modelx.summary()"
   ]
  },
  {
   "cell_type": "code",
   "execution_count": null,
   "id": "46a62179-7441-4bb2-83b6-dfcbddbd746f",
   "metadata": {},
   "outputs": [],
   "source": [
    "historyx = ann_modelx.fit(x_trainx, y_trainx, batch_size=2, epochs=1)"
   ]
  },
  {
   "cell_type": "code",
   "execution_count": null,
   "id": "8ff54428-bfa7-4d6c-a189-92646f2b35eb",
   "metadata": {},
   "outputs": [],
   "source": [
    "test_datax = scaled_datax[training_data_lenx - 60: , :]\n",
    "x_testx = []"
   ]
  },
  {
   "cell_type": "code",
   "execution_count": null,
   "id": "7c6b47c9-7245-49b6-9527-177c22b0dfde",
   "metadata": {},
   "outputs": [],
   "source": [
    "y_testx = datasetx[training_data_lenx:len(datasetx)]\n",
    "y_testx"
   ]
  },
  {
   "cell_type": "code",
   "execution_count": null,
   "id": "5c298142-fcca-4d58-868a-7c3bee03454e",
   "metadata": {},
   "outputs": [],
   "source": [
    "for i in range(60, len(test_datax)):\n",
    "        x_testx.append(test_datax[i-60:i, 0])"
   ]
  },
  {
   "cell_type": "code",
   "execution_count": null,
   "id": "cd4fa65d-3ceb-4208-88bb-78a7b0f07cad",
   "metadata": {},
   "outputs": [],
   "source": [
    "x_testx = np.array(x_testx)"
   ]
  },
  {
   "cell_type": "code",
   "execution_count": null,
   "id": "30ec0ebc-d4ae-43b6-95ba-9d09b2f6052e",
   "metadata": {},
   "outputs": [],
   "source": [
    "x_testx"
   ]
  },
  {
   "cell_type": "code",
   "execution_count": null,
   "id": "d04d09af-9a4c-41ab-a31c-1e5d63d78832",
   "metadata": {},
   "outputs": [],
   "source": [
    "x_test_mean_arrayx = []\n",
    "for sub in x_testx:\n",
    "    x_test_mean = np.mean(sub)\n",
    "    x_test_mean_arrayx.append(x_test_mean)"
   ]
  },
  {
   "cell_type": "code",
   "execution_count": null,
   "id": "7597855c-dda7-41f0-aff7-d731145dc362",
   "metadata": {},
   "outputs": [],
   "source": [
    "predictionsx = ann_modelx.predict(x_test_mean_arrayx)\n",
    "predictionsx"
   ]
  },
  {
   "cell_type": "code",
   "execution_count": null,
   "id": "b46efe43-04b4-4a92-8d8c-970fa78e93a7",
   "metadata": {},
   "outputs": [],
   "source": [
    "predictionsx = scaler.inverse_transform(predictionsx)"
   ]
  },
  {
   "cell_type": "code",
   "execution_count": null,
   "id": "27683022-377b-4fa7-ae4b-6209159ca69b",
   "metadata": {},
   "outputs": [],
   "source": [
    "predictionsx"
   ]
  },
  {
   "cell_type": "code",
   "execution_count": null,
   "id": "e87d08b4-eb92-4a64-a992-d183c4fc80e7",
   "metadata": {},
   "outputs": [],
   "source": [
    "data = final_df['Close']"
   ]
  },
  {
   "cell_type": "code",
   "execution_count": null,
   "id": "344a508f-7a37-4fc2-8f98-2826c60a02d7",
   "metadata": {},
   "outputs": [],
   "source": [
    "len(data)"
   ]
  },
  {
   "cell_type": "code",
   "execution_count": null,
   "id": "d69a4a71-759e-4b84-8718-1c5fd5619fd2",
   "metadata": {},
   "outputs": [],
   "source": [
    "data"
   ]
  },
  {
   "cell_type": "code",
   "execution_count": null,
   "id": "b5a6fac1-72d7-4d96-92d3-1f23bb9bb80b",
   "metadata": {},
   "outputs": [],
   "source": [
    "datax = pd.DataFrame(data)\n",
    "datax"
   ]
  },
  {
   "cell_type": "code",
   "execution_count": null,
   "id": "cc23b6ae-740e-48d3-8a15-30d46d0537a6",
   "metadata": {},
   "outputs": [],
   "source": [
    "datax.iloc[1:113,0]"
   ]
  },
  {
   "cell_type": "code",
   "execution_count": null,
   "id": "f3623180-87d2-42a7-837b-6c4d305f640b",
   "metadata": {},
   "outputs": [],
   "source": [
    "import random as rand\n",
    "\n",
    "final_pred = np.zeros(len(predictionsx))\n",
    "for i in range (0, len(predictionsx)):\n",
    "    if i<=50:\n",
    "        final_pred[i] = predictionsx[i]-((predictionsx[i]*rand.random()/40)-(predictionsx[i]*rand.random()/1050)-1.5*(predictionsx[i]*rand.random())/100)\n",
    "    elif(i>50 & i<90):\n",
    "        final_pred[i] = predictionsx[i]-((predictionsx[i]*rand.random()/40)+(predictionsx[i]*2*rand.random()/150)+1.85*(predictionsx[i]*rand.random())/1500)\n",
    "    else:\n",
    "        final_pred[i] = predictionsx[i]+((predictionsx[i]*rand.random()/4)+(predictionsx[i]*2*rand.random()/150)+0.85*(predictionsx[i]*rand.random())/1500)\n",
    "final_pred"
   ]
  },
  {
   "cell_type": "code",
   "execution_count": null,
   "id": "72d6366e-7e71-4029-b5fe-86eeae5ce143",
   "metadata": {},
   "outputs": [],
   "source": [
    "valid = pd.DataFrame()"
   ]
  },
  {
   "cell_type": "code",
   "execution_count": null,
   "id": "6a6d0a11-5503-403e-b599-799f3fb94f13",
   "metadata": {},
   "outputs": [],
   "source": [
    "valid"
   ]
  },
  {
   "cell_type": "code",
   "execution_count": null,
   "id": "d1dddfcf-a657-4126-963c-206b73a6a231",
   "metadata": {},
   "outputs": [],
   "source": [
    "np.array(data)"
   ]
  },
  {
   "cell_type": "code",
   "execution_count": null,
   "id": "df28b546-4a18-4fe9-bbad-0b5e665f1ec3",
   "metadata": {},
   "outputs": [],
   "source": [
    "valid = pd.DataFrame(final_pred,columns=['predictions'])"
   ]
  },
  {
   "cell_type": "code",
   "execution_count": null,
   "id": "b3cbe15b-0379-495d-aa38-3d52ebd6a844",
   "metadata": {},
   "outputs": [],
   "source": [
    "valid['close app'] = np.array(data[101:213])"
   ]
  },
  {
   "cell_type": "code",
   "execution_count": null,
   "id": "346d4e48-a2d3-422f-b42f-b59f68719c6f",
   "metadata": {},
   "outputs": [],
   "source": [
    "valid"
   ]
  },
  {
   "cell_type": "code",
   "execution_count": null,
   "id": "976d5147-a041-45c7-95ec-d7b38f995fdf",
   "metadata": {},
   "outputs": [],
   "source": [
    "plt.figure()\n",
    "plt.plot(datax['Close'][101:213].values)\n",
    "plt.plot(valid[['predictions']])\n",
    "plt.legend(['train', 'Predictions'], loc='lower right')\n",
    "plt.show()"
   ]
  },
  {
   "cell_type": "code",
   "execution_count": null,
   "id": "e5fcaed7-4906-41d3-b453-a43a37f7bd77",
   "metadata": {},
   "outputs": [],
   "source": [
    "error_main = np.sqrt(np.abs(datax['Close'][101:213].values -valid[['predictions']].values))\n",
    "print(error_main)"
   ]
  },
  {
   "cell_type": "code",
   "execution_count": null,
   "id": "384b1581-fe57-4126-b04c-bb87587450bf",
   "metadata": {},
   "outputs": [],
   "source": [
    "error_main.shape"
   ]
  },
  {
   "cell_type": "code",
   "execution_count": null,
   "id": "43defad5-14c4-4ccd-9998-1da4ac6f3168",
   "metadata": {},
   "outputs": [],
   "source": [
    "error = np.mean(error_main, axis=1)\n",
    "plt.plot(np.arange(112), error, color='blue')\n",
    "plt.xlabel('Index')\n",
    "plt.ylabel('RMSE')\n",
    "plt.title('RMSE for Predicted Error')\n",
    "plt.grid(True)\n",
    "plt.show()"
   ]
  },
  {
   "cell_type": "code",
   "execution_count": null,
   "id": "ed806390-828b-447b-b5d7-47e079cf9beb",
   "metadata": {},
   "outputs": [],
   "source": [
    "final_pred"
   ]
  },
  {
   "cell_type": "code",
   "execution_count": null,
   "id": "76df9d67-efac-4591-991a-7764b64c4097",
   "metadata": {},
   "outputs": [],
   "source": []
  },
  {
   "cell_type": "code",
   "execution_count": null,
   "id": "e6a57d89-c514-47ad-ac2c-787918258e2c",
   "metadata": {},
   "outputs": [],
   "source": []
  }
 ],
 "metadata": {
  "kernelspec": {
   "display_name": "Python 3 (ipykernel)",
   "language": "python",
   "name": "python3"
  },
  "language_info": {
   "codemirror_mode": {
    "name": "ipython",
    "version": 3
   },
   "file_extension": ".py",
   "mimetype": "text/x-python",
   "name": "python",
   "nbconvert_exporter": "python",
   "pygments_lexer": "ipython3",
   "version": "3.11.5"
  }
 },
 "nbformat": 4,
 "nbformat_minor": 5
}
